{
 "cells": [
  {
   "cell_type": "code",
   "execution_count": 1,
   "metadata": {},
   "outputs": [],
   "source": [
    "import pandas as pd\n",
    "import numpy as np\n",
    "from sklearn.preprocessing import StandardScaler, MinMaxScaler, RobustScaler, MaxAbsScaler\n",
    "from sklearn.preprocessing import LabelEncoder\n",
    "from sklearn.decomposition import PCA\n",
    "from sklearn.model_selection import train_test_split\n",
    "import matplotlib.pyplot as plt\n",
    "from pprint import pprint\n",
    "import gc\n",
    "from collections import deque\n",
    "from tqdm.notebook import tqdm\n",
    "from time import sleep\n",
    "import pickle\n",
    "from datetime import datetime\n",
    "\n",
    "from tensorflow.keras.models import Sequential\n",
    "from tensorflow.keras.layers import Dense\n",
    "from tensorflow.keras.layers import Embedding\n",
    "from tensorflow.keras.layers import Flatten\n",
    "from tensorflow.keras.layers import Input\n",
    "from tensorflow.keras.layers import Dense, Activation, Reshape, Concatenate\n",
    "from tensorflow.keras.models import Model as KerasModel\n",
    "from sklearn.model_selection import train_test_split\n",
    "from collections import deque"
   ]
  },
  {
   "cell_type": "code",
   "execution_count": 2,
   "metadata": {},
   "outputs": [],
   "source": [
    "train = pd.read_csv('sales_train_cleaned.csv')\n",
    "item_df = pd.read_csv('items.csv')\n",
    "shops_df = pd.read_csv('shops.csv')"
   ]
  },
  {
   "cell_type": "markdown",
   "metadata": {},
   "source": [
    "# Merging Mislabelled Shops\n",
    "\n",
    "upon manually going through the data of the shops, discoveredthe following possible cases where the same shop have been given different shop_id, hence merging them together. The shops of interest are:\n",
    "1. 0 => 57 (This is contentious)\n",
    "2. 1 => 58 (This is contentious)\n",
    "3. 10 => 11"
   ]
  },
  {
   "cell_type": "code",
   "execution_count": 3,
   "metadata": {},
   "outputs": [],
   "source": [
    "train.loc[(train.shop_id == 0), 'shop_id'] = 57\n",
    "train.loc[(train.shop_id == 1), 'shop_id'] = 58\n",
    "train.loc[(train.shop_id == 10),'shop_id'] = 11"
   ]
  },
  {
   "cell_type": "code",
   "execution_count": 4,
   "metadata": {},
   "outputs": [],
   "source": [
    "train['date'] = train['date'].apply(lambda x: datetime.strptime(x, '%d.%m.%Y'))\n",
    "\n",
    "train['day'] = train.date.apply(lambda x: int(x.strftime('%d')))\n",
    "train['month'] = train.date.apply(lambda x: int(x.strftime('%m')))\n",
    "train['year'] = train.date.apply(lambda x: int(x.strftime('%Y')))"
   ]
  },
  {
   "cell_type": "code",
   "execution_count": 5,
   "metadata": {},
   "outputs": [],
   "source": [
    "train = pd.merge(train,item_df,on=['item_id'])"
   ]
  },
  {
   "cell_type": "code",
   "execution_count": 6,
   "metadata": {},
   "outputs": [],
   "source": [
    "# Determine the monthly item count\n",
    "monthly_sales = train.groupby(['shop_id','item_id','date_block_num'])['item_cnt_day'].sum().to_frame().reset_index()\n",
    "monthly_sales.rename(columns={'item_cnt_day':'item_cnt_month'}, inplace=True)"
   ]
  },
  {
   "cell_type": "code",
   "execution_count": 7,
   "metadata": {},
   "outputs": [
    {
     "data": {
      "text/plain": [
       "0"
      ]
     },
     "execution_count": 7,
     "metadata": {},
     "output_type": "execute_result"
    }
   ],
   "source": [
    "gc.collect()"
   ]
  },
  {
   "cell_type": "markdown",
   "metadata": {},
   "source": [
    "# Embedding"
   ]
  },
  {
   "cell_type": "markdown",
   "metadata": {},
   "source": [
    "The variabls we want to apply entity embeddings to are the following variables:\n",
    "1. **shop_id**\n",
    "2. **item_category_id**\n",
    "3. **years**\n",
    "4. **months**"
   ]
  },
  {
   "cell_type": "code",
   "execution_count": 8,
   "metadata": {},
   "outputs": [],
   "source": [
    "# General rule of thumb for the embedding of categorical data\n",
    "num_shop_id = len(shops_df)\n",
    "num_category_id = len(item_df['item_category_id'].unique())\n",
    "num_years = 3\n",
    "num_months = 12\n",
    "\n",
    "# embedding_size = min(50, m+1/ 2) \n",
    "num_shop_id_embeddings = 3\n",
    "num_cat_id_embeddings = 3\n",
    "num_years_embeddings = 2\n",
    "num_months_embeddings = 4"
   ]
  },
  {
   "cell_type": "code",
   "execution_count": 469,
   "metadata": {},
   "outputs": [],
   "source": [
    "# Create a function that takes in a feature set and created the one hot enconding data frame\n",
    "def generate_one_hot_encoding(data, feature):\n",
    "    # get the unique list of feature values\n",
    "    unique_values = list(data[feature].unique())\n",
    "    unique_values.sort()\n",
    "    max_val = unique_values[-1]\n",
    "    one_hot_encoded = np.zeros((max_val+1,max_val+2)) # Extra column for indexing\n",
    "    one_hot_encoded = one_hot_encoded.astype(int)\n",
    "    for idx in unique_values:\n",
    "        one_hot_encoded[idx,idx+1] = 1\n",
    "        one_hot_encoded[idx,0] = int(idx)\n",
    "    columns = [feature]\n",
    "    for i in range(max_val+1):\n",
    "        columns.append(feature+\"_\"+str(i))\n",
    "    df = pd.DataFrame(data=one_hot_encoded,columns=columns)\n",
    "    return df"
   ]
  },
  {
   "cell_type": "code",
   "execution_count": 474,
   "metadata": {},
   "outputs": [],
   "source": [
    "shop_id_hot_encode = generate_one_hot_encoding(monthly_sales,\"shop_id\")\n",
    "category_id_hot_encode = generate_one_hot_encoding(item_df,\"item_category_id\")\n",
    "year_hot_encode = generate_one_hot_encoding(train,\"year\")"
   ]
  },
  {
   "cell_type": "code",
   "execution_count": 9,
   "metadata": {},
   "outputs": [
    {
     "data": {
      "text/html": [
       "<div>\n",
       "<style scoped>\n",
       "    .dataframe tbody tr th:only-of-type {\n",
       "        vertical-align: middle;\n",
       "    }\n",
       "\n",
       "    .dataframe tbody tr th {\n",
       "        vertical-align: top;\n",
       "    }\n",
       "\n",
       "    .dataframe thead th {\n",
       "        text-align: right;\n",
       "    }\n",
       "</style>\n",
       "<table border=\"1\" class=\"dataframe\">\n",
       "  <thead>\n",
       "    <tr style=\"text-align: right;\">\n",
       "      <th></th>\n",
       "      <th>shop_id</th>\n",
       "      <th>item_id</th>\n",
       "      <th>date_block_num</th>\n",
       "      <th>item_cnt_month</th>\n",
       "    </tr>\n",
       "  </thead>\n",
       "  <tbody>\n",
       "    <tr>\n",
       "      <th>0</th>\n",
       "      <td>2</td>\n",
       "      <td>27</td>\n",
       "      <td>0</td>\n",
       "      <td>1.0</td>\n",
       "    </tr>\n",
       "    <tr>\n",
       "      <th>1</th>\n",
       "      <td>2</td>\n",
       "      <td>27</td>\n",
       "      <td>17</td>\n",
       "      <td>1.0</td>\n",
       "    </tr>\n",
       "    <tr>\n",
       "      <th>2</th>\n",
       "      <td>2</td>\n",
       "      <td>30</td>\n",
       "      <td>2</td>\n",
       "      <td>1.0</td>\n",
       "    </tr>\n",
       "    <tr>\n",
       "      <th>3</th>\n",
       "      <td>2</td>\n",
       "      <td>30</td>\n",
       "      <td>5</td>\n",
       "      <td>1.0</td>\n",
       "    </tr>\n",
       "    <tr>\n",
       "      <th>4</th>\n",
       "      <td>2</td>\n",
       "      <td>30</td>\n",
       "      <td>15</td>\n",
       "      <td>1.0</td>\n",
       "    </tr>\n",
       "    <tr>\n",
       "      <th>...</th>\n",
       "      <td>...</td>\n",
       "      <td>...</td>\n",
       "      <td>...</td>\n",
       "      <td>...</td>\n",
       "    </tr>\n",
       "    <tr>\n",
       "      <th>1609117</th>\n",
       "      <td>59</td>\n",
       "      <td>22164</td>\n",
       "      <td>27</td>\n",
       "      <td>2.0</td>\n",
       "    </tr>\n",
       "    <tr>\n",
       "      <th>1609118</th>\n",
       "      <td>59</td>\n",
       "      <td>22164</td>\n",
       "      <td>30</td>\n",
       "      <td>1.0</td>\n",
       "    </tr>\n",
       "    <tr>\n",
       "      <th>1609119</th>\n",
       "      <td>59</td>\n",
       "      <td>22167</td>\n",
       "      <td>9</td>\n",
       "      <td>1.0</td>\n",
       "    </tr>\n",
       "    <tr>\n",
       "      <th>1609120</th>\n",
       "      <td>59</td>\n",
       "      <td>22167</td>\n",
       "      <td>11</td>\n",
       "      <td>2.0</td>\n",
       "    </tr>\n",
       "    <tr>\n",
       "      <th>1609121</th>\n",
       "      <td>59</td>\n",
       "      <td>22167</td>\n",
       "      <td>17</td>\n",
       "      <td>1.0</td>\n",
       "    </tr>\n",
       "  </tbody>\n",
       "</table>\n",
       "<p>1609122 rows × 4 columns</p>\n",
       "</div>"
      ],
      "text/plain": [
       "         shop_id  item_id  date_block_num  item_cnt_month\n",
       "0              2       27               0             1.0\n",
       "1              2       27              17             1.0\n",
       "2              2       30               2             1.0\n",
       "3              2       30               5             1.0\n",
       "4              2       30              15             1.0\n",
       "...          ...      ...             ...             ...\n",
       "1609117       59    22164              27             2.0\n",
       "1609118       59    22164              30             1.0\n",
       "1609119       59    22167               9             1.0\n",
       "1609120       59    22167              11             2.0\n",
       "1609121       59    22167              17             1.0\n",
       "\n",
       "[1609122 rows x 4 columns]"
      ]
     },
     "execution_count": 9,
     "metadata": {},
     "output_type": "execute_result"
    }
   ],
   "source": [
    "monthly_sales"
   ]
  },
  {
   "cell_type": "code",
   "execution_count": 10,
   "metadata": {},
   "outputs": [],
   "source": [
    "# Adding item_category_id\n",
    "train_embedding_data = pd.merge(monthly_sales, item_df, on=[\"item_id\"])\n",
    "train_embedding_data.drop([\"item_name\"],inplace=True,axis=1)"
   ]
  },
  {
   "cell_type": "code",
   "execution_count": 11,
   "metadata": {},
   "outputs": [],
   "source": [
    "# Adding year\n",
    "year_block_num = train[['date_block_num','year']].drop_duplicates()\n",
    "train_embedding_data = pd.merge(train_embedding_data, year_block_num, on=['date_block_num'])"
   ]
  },
  {
   "cell_type": "code",
   "execution_count": 12,
   "metadata": {},
   "outputs": [],
   "source": [
    "# Adding months\n",
    "month_block_num = train[['date_block_num','month']].drop_duplicates()\n",
    "train_embedding_data = pd.merge(train_embedding_data, month_block_num, on=['date_block_num'])"
   ]
  },
  {
   "cell_type": "code",
   "execution_count": 13,
   "metadata": {},
   "outputs": [
    {
     "data": {
      "text/html": [
       "<div>\n",
       "<style scoped>\n",
       "    .dataframe tbody tr th:only-of-type {\n",
       "        vertical-align: middle;\n",
       "    }\n",
       "\n",
       "    .dataframe tbody tr th {\n",
       "        vertical-align: top;\n",
       "    }\n",
       "\n",
       "    .dataframe thead th {\n",
       "        text-align: right;\n",
       "    }\n",
       "</style>\n",
       "<table border=\"1\" class=\"dataframe\">\n",
       "  <thead>\n",
       "    <tr style=\"text-align: right;\">\n",
       "      <th></th>\n",
       "      <th>year</th>\n",
       "      <th>year_label_encoded</th>\n",
       "    </tr>\n",
       "  </thead>\n",
       "  <tbody>\n",
       "    <tr>\n",
       "      <th>0</th>\n",
       "      <td>2013</td>\n",
       "      <td>0</td>\n",
       "    </tr>\n",
       "    <tr>\n",
       "      <th>1</th>\n",
       "      <td>2014</td>\n",
       "      <td>1</td>\n",
       "    </tr>\n",
       "    <tr>\n",
       "      <th>2</th>\n",
       "      <td>2015</td>\n",
       "      <td>2</td>\n",
       "    </tr>\n",
       "  </tbody>\n",
       "</table>\n",
       "</div>"
      ],
      "text/plain": [
       "   year  year_label_encoded\n",
       "0  2013                   0\n",
       "1  2014                   1\n",
       "2  2015                   2"
      ]
     },
     "execution_count": 13,
     "metadata": {},
     "output_type": "execute_result"
    }
   ],
   "source": [
    "# Adding label encoded years\n",
    "year_label_encoded = pd.DataFrame(data=np.array([[2013,0],[2014,1],[2015,2]]),columns=['year','year_label_encoded'])\n",
    "year_label_encoded"
   ]
  },
  {
   "cell_type": "code",
   "execution_count": 14,
   "metadata": {},
   "outputs": [],
   "source": [
    "train_embedding_data = pd.merge(train_embedding_data, year_label_encoded, on=['year'])"
   ]
  },
  {
   "cell_type": "code",
   "execution_count": 15,
   "metadata": {},
   "outputs": [],
   "source": [
    "# Label encoding the shop_id due to merging\n",
    "unique_shop_id = train_embedding_data.shop_id.unique()\n",
    "unique_shop_id = list(unique_shop_id.astype(int))\n",
    "unique_shop_id.sort()\n",
    "le = LabelEncoder()\n",
    "le.fit(unique_shop_id)\n",
    "shop_id_encoded = le.transform(train_embedding_data['shop_id'].values)"
   ]
  },
  {
   "cell_type": "code",
   "execution_count": 16,
   "metadata": {},
   "outputs": [],
   "source": [
    "train_embedding_data.insert(1,\"shop_id_label_encoded\",\n",
    "                            list(shop_id_encoded), True)"
   ]
  },
  {
   "cell_type": "code",
   "execution_count": 17,
   "metadata": {},
   "outputs": [
    {
     "data": {
      "text/plain": [
       "array([ 2,  3,  4,  5,  6,  7,  8,  9, 11, 12, 13, 14, 15, 16, 17, 18, 19,\n",
       "       20, 21, 22, 23, 24, 25, 26, 27, 28, 29, 30, 31, 32, 33, 34, 35, 36,\n",
       "       37, 38, 39, 40, 41, 42, 43, 44, 45, 46, 47, 48, 49, 50, 51, 52, 53,\n",
       "       54, 55, 56, 57, 58, 59])"
      ]
     },
     "execution_count": 17,
     "metadata": {},
     "output_type": "execute_result"
    }
   ],
   "source": [
    "le.classes_"
   ]
  },
  {
   "cell_type": "code",
   "execution_count": 18,
   "metadata": {},
   "outputs": [],
   "source": [
    "input_shop = Input(shape=(1,))\n",
    "output_shop = Embedding(57, num_shop_id_embeddings, name='shop_embedding')(input_shop)\n",
    "output_shop = Reshape(target_shape=(num_shop_id_embeddings,))(output_shop)\n",
    "\n",
    "input_item_cat = Input(shape=(1,))\n",
    "output_item_cat = Embedding(num_category_id, num_cat_id_embeddings, name='item_cat_embedding')(input_item_cat)\n",
    "output_item_cat = Reshape(target_shape=(num_cat_id_embeddings,))(output_item_cat)\n",
    "\n",
    "# In the future maybe one hot encode of which days of the week the store was open\n",
    "# input_dow = Input(shape=(1,))\n",
    "# output_dow = Embedding(7, 6, name='dow_embedding')(input_dow)\n",
    "# output_dow = Reshape(target_shape=(6,))(output_dow)\n",
    "\n",
    "# Days the item price was below the median?\n",
    "# input_promo = Input(shape=(1,))\n",
    "# output_promo = Dense(1)(input_promo)\n",
    "\n",
    "input_year = Input(shape=(1,))\n",
    "output_year = Embedding(3, num_years_embeddings, name='year_embedding')(input_year)\n",
    "output_year = Reshape(target_shape=(num_years_embeddings,))(output_year)\n",
    "\n",
    "input_month = Input(shape=(1,))\n",
    "output_month = Embedding(12,num_months_embeddings, name='month_embedding')(input_month)\n",
    "output_month = Reshape(target_shape=(num_months_embeddings,))(output_month)\n",
    "\n",
    "# input_day = Input(shape=(1,))\n",
    "# output_day = Embedding(31, 10, name='day_embedding')(input_day)\n",
    "# output_day = Reshape(target_shape=(10,))(output_day)\n",
    "\n",
    "# input_germanstate = Input(shape=(1,))\n",
    "# output_germanstate = Embedding(12, 6, name='state_embedding')(input_germanstate)\n",
    "# output_germanstate = Reshape(target_shape=(6,))(output_germanstate)\n",
    "\n",
    "input_model = [input_shop, input_item_cat, input_year, input_month]\n",
    "\n",
    "output_embeddings = [output_shop, output_item_cat, output_year, output_month]\n",
    "\n",
    "output_model = Concatenate()(output_embeddings)\n",
    "output_model = Dense(50, kernel_initializer=\"uniform\")(output_model)\n",
    "output_model = Activation('relu')(output_model)\n",
    "output_model = Dense(15, kernel_initializer=\"uniform\")(output_model)\n",
    "output_model = Activation('relu')(output_model)\n",
    "output_model = Dense(1)(output_model)\n",
    "output_model = Activation('sigmoid')(output_model)\n",
    "\n",
    "model_2 = KerasModel(inputs=input_model, outputs=output_model)\n",
    "\n",
    "model_2.compile(loss='mean_absolute_error', optimizer='adam')"
   ]
  },
  {
   "cell_type": "code",
   "execution_count": 19,
   "metadata": {},
   "outputs": [],
   "source": [
    "# Setting data up for training\n",
    "train_embedding_data = train_embedding_data[['shop_id_label_encoded',\n",
    "                                             'item_category_id',\n",
    "                                             'year_label_encoded',\n",
    "                                             'month',\n",
    "                                             'item_id',\n",
    "                                             'date_block_num',\n",
    "                                             'year',\n",
    "                                             'shop_id',\n",
    "                                             'item_cnt_month']]"
   ]
  },
  {
   "cell_type": "code",
   "execution_count": 20,
   "metadata": {},
   "outputs": [],
   "source": [
    "train_embedding_data.drop(['date_block_num'], inplace=True, axis=1)"
   ]
  },
  {
   "cell_type": "code",
   "execution_count": 21,
   "metadata": {},
   "outputs": [],
   "source": [
    "train_embedding_data.drop(['item_id','year','shop_id'], inplace=True, axis=1)"
   ]
  },
  {
   "cell_type": "code",
   "execution_count": 22,
   "metadata": {},
   "outputs": [
    {
     "data": {
      "text/html": [
       "<div>\n",
       "<style scoped>\n",
       "    .dataframe tbody tr th:only-of-type {\n",
       "        vertical-align: middle;\n",
       "    }\n",
       "\n",
       "    .dataframe tbody tr th {\n",
       "        vertical-align: top;\n",
       "    }\n",
       "\n",
       "    .dataframe thead th {\n",
       "        text-align: right;\n",
       "    }\n",
       "</style>\n",
       "<table border=\"1\" class=\"dataframe\">\n",
       "  <thead>\n",
       "    <tr style=\"text-align: right;\">\n",
       "      <th></th>\n",
       "      <th>shop_id_label_encoded</th>\n",
       "      <th>item_category_id</th>\n",
       "      <th>year_label_encoded</th>\n",
       "      <th>month</th>\n",
       "      <th>item_cnt_month</th>\n",
       "    </tr>\n",
       "  </thead>\n",
       "  <tbody>\n",
       "    <tr>\n",
       "      <th>0</th>\n",
       "      <td>0</td>\n",
       "      <td>19</td>\n",
       "      <td>0</td>\n",
       "      <td>1</td>\n",
       "      <td>1.0</td>\n",
       "    </tr>\n",
       "    <tr>\n",
       "      <th>1</th>\n",
       "      <td>8</td>\n",
       "      <td>19</td>\n",
       "      <td>0</td>\n",
       "      <td>1</td>\n",
       "      <td>1.0</td>\n",
       "    </tr>\n",
       "    <tr>\n",
       "      <th>2</th>\n",
       "      <td>16</td>\n",
       "      <td>19</td>\n",
       "      <td>0</td>\n",
       "      <td>1</td>\n",
       "      <td>1.0</td>\n",
       "    </tr>\n",
       "    <tr>\n",
       "      <th>3</th>\n",
       "      <td>23</td>\n",
       "      <td>19</td>\n",
       "      <td>0</td>\n",
       "      <td>1</td>\n",
       "      <td>1.0</td>\n",
       "    </tr>\n",
       "    <tr>\n",
       "      <th>4</th>\n",
       "      <td>28</td>\n",
       "      <td>19</td>\n",
       "      <td>0</td>\n",
       "      <td>1</td>\n",
       "      <td>1.0</td>\n",
       "    </tr>\n",
       "    <tr>\n",
       "      <th>...</th>\n",
       "      <td>...</td>\n",
       "      <td>...</td>\n",
       "      <td>...</td>\n",
       "      <td>...</td>\n",
       "      <td>...</td>\n",
       "    </tr>\n",
       "    <tr>\n",
       "      <th>1609117</th>\n",
       "      <td>52</td>\n",
       "      <td>54</td>\n",
       "      <td>2</td>\n",
       "      <td>10</td>\n",
       "      <td>18.0</td>\n",
       "    </tr>\n",
       "    <tr>\n",
       "      <th>1609118</th>\n",
       "      <td>52</td>\n",
       "      <td>54</td>\n",
       "      <td>2</td>\n",
       "      <td>10</td>\n",
       "      <td>7.0</td>\n",
       "    </tr>\n",
       "    <tr>\n",
       "      <th>1609119</th>\n",
       "      <td>52</td>\n",
       "      <td>31</td>\n",
       "      <td>2</td>\n",
       "      <td>10</td>\n",
       "      <td>1.0</td>\n",
       "    </tr>\n",
       "    <tr>\n",
       "      <th>1609120</th>\n",
       "      <td>52</td>\n",
       "      <td>54</td>\n",
       "      <td>2</td>\n",
       "      <td>10</td>\n",
       "      <td>11.0</td>\n",
       "    </tr>\n",
       "    <tr>\n",
       "      <th>1609121</th>\n",
       "      <td>54</td>\n",
       "      <td>72</td>\n",
       "      <td>2</td>\n",
       "      <td>10</td>\n",
       "      <td>1.0</td>\n",
       "    </tr>\n",
       "  </tbody>\n",
       "</table>\n",
       "<p>1609122 rows × 5 columns</p>\n",
       "</div>"
      ],
      "text/plain": [
       "         shop_id_label_encoded  item_category_id  year_label_encoded  month  \\\n",
       "0                            0                19                   0      1   \n",
       "1                            8                19                   0      1   \n",
       "2                           16                19                   0      1   \n",
       "3                           23                19                   0      1   \n",
       "4                           28                19                   0      1   \n",
       "...                        ...               ...                 ...    ...   \n",
       "1609117                     52                54                   2     10   \n",
       "1609118                     52                54                   2     10   \n",
       "1609119                     52                31                   2     10   \n",
       "1609120                     52                54                   2     10   \n",
       "1609121                     54                72                   2     10   \n",
       "\n",
       "         item_cnt_month  \n",
       "0                   1.0  \n",
       "1                   1.0  \n",
       "2                   1.0  \n",
       "3                   1.0  \n",
       "4                   1.0  \n",
       "...                 ...  \n",
       "1609117            18.0  \n",
       "1609118             7.0  \n",
       "1609119             1.0  \n",
       "1609120            11.0  \n",
       "1609121             1.0  \n",
       "\n",
       "[1609122 rows x 5 columns]"
      ]
     },
     "execution_count": 22,
     "metadata": {},
     "output_type": "execute_result"
    }
   ],
   "source": [
    "train_embedding_data"
   ]
  },
  {
   "cell_type": "code",
   "execution_count": 23,
   "metadata": {},
   "outputs": [],
   "source": [
    "# Setup the training data\n",
    "X_training_data = train_embedding_data.iloc[:,0:4].values\n",
    "# Fixing the months to be between 0 and 11\n",
    "X_training_data[:,3] = X_training_data[:,3] - 1\n",
    "\n",
    "y_train = train_embedding_data.iloc[:,4].values\n",
    "# Since the data is expected to be between 0 and 20\n",
    "# To improve generalization clip to 0 and 40\n",
    "y_train = y_train.clip(0,40)\n",
    "max_log_y = np.max(np.log1p(y_train))\n",
    "\n",
    "# Log scaled y\n",
    "y_train_scaled = np.log1p(y_train)/max_log_y"
   ]
  },
  {
   "cell_type": "code",
   "execution_count": 24,
   "metadata": {},
   "outputs": [
    {
     "data": {
      "text/plain": [
       "array([[ 0, 19,  0,  0],\n",
       "       [ 8, 19,  0,  0],\n",
       "       [16, 19,  0,  0],\n",
       "       ...,\n",
       "       [52, 31,  2,  9],\n",
       "       [52, 54,  2,  9],\n",
       "       [54, 72,  2,  9]])"
      ]
     },
     "execution_count": 24,
     "metadata": {},
     "output_type": "execute_result"
    }
   ],
   "source": [
    "X_training_data"
   ]
  },
  {
   "cell_type": "code",
   "execution_count": 25,
   "metadata": {},
   "outputs": [],
   "source": [
    "X_train_embed, X_val_embed, y_train_embed, y_val_embed = train_test_split(X_training_data, y_train_scaled, \n",
    "                                                                         test_size=0.2, random_state=42)"
   ]
  },
  {
   "cell_type": "code",
   "execution_count": 26,
   "metadata": {},
   "outputs": [],
   "source": [
    "# setup up input format for input layer\n",
    "def split_features(X):\n",
    "    X_list = []\n",
    "    shop_index = X[..., [0]]\n",
    "    X_list.append(shop_index)\n",
    "    \n",
    "    item_cat = X[..., [1]]\n",
    "    X_list.append(item_cat)\n",
    "    \n",
    "    year = X[..., [2]]\n",
    "    X_list.append(year)\n",
    "    \n",
    "    month = X[..., [3]]\n",
    "    X_list.append(month)\n",
    "    \n",
    "    return X_list"
   ]
  },
  {
   "cell_type": "code",
   "execution_count": 28,
   "metadata": {},
   "outputs": [
    {
     "name": "stdout",
     "output_type": "stream",
     "text": [
      "Train on 1287297 samples, validate on 321825 samples\n",
      "Epoch 1/90\n",
      "1287297/1287297 [==============================] - 15s 11us/sample - loss: 0.0656 - val_loss: 0.0658\n",
      "Epoch 2/90\n",
      "1287297/1287297 [==============================] - 15s 11us/sample - loss: 0.0656 - val_loss: 0.0660\n",
      "Epoch 3/90\n",
      "1287297/1287297 [==============================] - 15s 11us/sample - loss: 0.0656 - val_loss: 0.0659\n",
      "Epoch 4/90\n",
      "1287297/1287297 [==============================] - 16s 12us/sample - loss: 0.0656 - val_loss: 0.0658\n",
      "Epoch 5/90\n",
      "1287297/1287297 [==============================] - 15s 11us/sample - loss: 0.0656 - val_loss: 0.0658\n",
      "Epoch 6/90\n",
      "1287297/1287297 [==============================] - 15s 11us/sample - loss: 0.0656 - val_loss: 0.0659\n",
      "Epoch 7/90\n",
      "1287297/1287297 [==============================] - 15s 12us/sample - loss: 0.0655 - val_loss: 0.0657\n",
      "Epoch 8/90\n",
      "1287297/1287297 [==============================] - 15s 12us/sample - loss: 0.0655 - val_loss: 0.0659\n",
      "Epoch 9/90\n",
      "1287297/1287297 [==============================] - 15s 12us/sample - loss: 0.0655 - val_loss: 0.0656\n",
      "Epoch 10/90\n",
      "1287297/1287297 [==============================] - 15s 11us/sample - loss: 0.0655 - val_loss: 0.0659\n",
      "Epoch 11/90\n",
      "1287297/1287297 [==============================] - 15s 12us/sample - loss: 0.0655 - val_loss: 0.0658\n",
      "Epoch 12/90\n",
      "1287297/1287297 [==============================] - 15s 12us/sample - loss: 0.0655 - val_loss: 0.0658\n",
      "Epoch 13/90\n",
      "1287297/1287297 [==============================] - 15s 12us/sample - loss: 0.0654 - val_loss: 0.0657\n",
      "Epoch 14/90\n",
      "1287297/1287297 [==============================] - 15s 12us/sample - loss: 0.0654 - val_loss: 0.0656\n",
      "Epoch 15/90\n",
      "1287297/1287297 [==============================] - 15s 12us/sample - loss: 0.0654 - val_loss: 0.0657\n",
      "Epoch 16/90\n",
      "1287297/1287297 [==============================] - 15s 12us/sample - loss: 0.0654 - val_loss: 0.0656\n",
      "Epoch 17/90\n",
      "1287297/1287297 [==============================] - 15s 12us/sample - loss: 0.0654 - val_loss: 0.0658\n",
      "Epoch 18/90\n",
      "1287297/1287297 [==============================] - 15s 12us/sample - loss: 0.0654 - val_loss: 0.0657\n",
      "Epoch 19/90\n",
      "1287297/1287297 [==============================] - 15s 12us/sample - loss: 0.0654 - val_loss: 0.0656\n",
      "Epoch 20/90\n",
      "1287297/1287297 [==============================] - 16s 12us/sample - loss: 0.0654 - val_loss: 0.0656\n",
      "Epoch 21/90\n",
      "1287297/1287297 [==============================] - 15s 12us/sample - loss: 0.0654 - val_loss: 0.0655\n",
      "Epoch 22/90\n",
      "1287297/1287297 [==============================] - 15s 12us/sample - loss: 0.0654 - val_loss: 0.0658\n",
      "Epoch 23/90\n",
      "1287297/1287297 [==============================] - 15s 12us/sample - loss: 0.0654 - val_loss: 0.0656\n",
      "Epoch 24/90\n",
      "1287297/1287297 [==============================] - 15s 12us/sample - loss: 0.0654 - val_loss: 0.0657\n",
      "Epoch 25/90\n",
      "1287297/1287297 [==============================] - 15s 12us/sample - loss: 0.0653 - val_loss: 0.0657\n",
      "Epoch 26/90\n",
      "1287297/1287297 [==============================] - 15s 12us/sample - loss: 0.0653 - val_loss: 0.0656\n",
      "Epoch 27/90\n",
      "1287297/1287297 [==============================] - 15s 12us/sample - loss: 0.0653 - val_loss: 0.0656\n",
      "Epoch 28/90\n",
      "1287297/1287297 [==============================] - 15s 12us/sample - loss: 0.0654 - val_loss: 0.0656\n",
      "Epoch 29/90\n",
      "1287297/1287297 [==============================] - 15s 12us/sample - loss: 0.0653 - val_loss: 0.0657\n",
      "Epoch 30/90\n",
      "1287297/1287297 [==============================] - 15s 12us/sample - loss: 0.0653 - val_loss: 0.0657\n",
      "Epoch 31/90\n",
      "1287297/1287297 [==============================] - 15s 12us/sample - loss: 0.0653 - val_loss: 0.0657\n",
      "Epoch 32/90\n",
      "1287297/1287297 [==============================] - 15s 12us/sample - loss: 0.0653 - val_loss: 0.0656\n",
      "Epoch 33/90\n",
      "1287297/1287297 [==============================] - 15s 12us/sample - loss: 0.0653 - val_loss: 0.0654\n",
      "Epoch 34/90\n",
      "1287297/1287297 [==============================] - 16s 12us/sample - loss: 0.0653 - val_loss: 0.0657\n",
      "Epoch 35/90\n",
      "1287297/1287297 [==============================] - 16s 12us/sample - loss: 0.0653 - val_loss: 0.0655\n",
      "Epoch 36/90\n",
      "1287297/1287297 [==============================] - 15s 12us/sample - loss: 0.0653 - val_loss: 0.0656\n",
      "Epoch 37/90\n",
      "1287297/1287297 [==============================] - 15s 12us/sample - loss: 0.0653 - val_loss: 0.0656\n",
      "Epoch 38/90\n",
      "1287297/1287297 [==============================] - 16s 12us/sample - loss: 0.0654 - val_loss: 0.0655\n",
      "Epoch 39/90\n",
      "1287297/1287297 [==============================] - 16s 12us/sample - loss: 0.0653 - val_loss: 0.0656\n",
      "Epoch 40/90\n",
      "1287297/1287297 [==============================] - 16s 12us/sample - loss: 0.0653 - val_loss: 0.0656\n",
      "Epoch 41/90\n",
      "1287297/1287297 [==============================] - 16s 12us/sample - loss: 0.0653 - val_loss: 0.0655\n",
      "Epoch 42/90\n",
      "1287297/1287297 [==============================] - 16s 12us/sample - loss: 0.0654 - val_loss: 0.0655\n",
      "Epoch 43/90\n",
      "1287297/1287297 [==============================] - 15s 12us/sample - loss: 0.0653 - val_loss: 0.0656\n",
      "Epoch 44/90\n",
      "1287297/1287297 [==============================] - 16s 12us/sample - loss: 0.0653 - val_loss: 0.0655\n",
      "Epoch 45/90\n",
      "1287297/1287297 [==============================] - 16s 13us/sample - loss: 0.0653 - val_loss: 0.0655\n",
      "Epoch 46/90\n",
      "1287297/1287297 [==============================] - 16s 13us/sample - loss: 0.0653 - val_loss: 0.0655\n",
      "Epoch 47/90\n",
      "1287297/1287297 [==============================] - 15s 12us/sample - loss: 0.0653 - val_loss: 0.0657\n",
      "Epoch 48/90\n",
      "1287297/1287297 [==============================] - 15s 12us/sample - loss: 0.0653 - val_loss: 0.0655\n",
      "Epoch 49/90\n",
      "1287297/1287297 [==============================] - 15s 12us/sample - loss: 0.0653 - val_loss: 0.0655\n",
      "Epoch 50/90\n",
      "1287297/1287297 [==============================] - 15s 12us/sample - loss: 0.0653 - val_loss: 0.0654- loss: \n",
      "Epoch 51/90\n",
      "1287297/1287297 [==============================] - 16s 12us/sample - loss: 0.0653 - val_loss: 0.0655\n",
      "Epoch 52/90\n",
      "1287297/1287297 [==============================] - 15s 12us/sample - loss: 0.0653 - val_loss: 0.0655\n",
      "Epoch 53/90\n",
      "1287297/1287297 [==============================] - 15s 12us/sample - loss: 0.0653 - val_loss: 0.0656\n",
      "Epoch 54/90\n",
      "1287297/1287297 [==============================] - 15s 12us/sample - loss: 0.0653 - val_loss: 0.0655\n",
      "Epoch 55/90\n",
      "1287297/1287297 [==============================] - 16s 12us/sample - loss: 0.0653 - val_loss: 0.0656\n",
      "Epoch 56/90\n",
      "1287297/1287297 [==============================] - 16s 12us/sample - loss: 0.0653 - val_loss: 0.0655\n",
      "Epoch 57/90\n",
      "1287297/1287297 [==============================] - 16s 12us/sample - loss: 0.0653 - val_loss: 0.0657\n",
      "Epoch 58/90\n",
      "1287297/1287297 [==============================] - 16s 12us/sample - loss: 0.0653 - val_loss: 0.0655\n",
      "Epoch 59/90\n",
      "1287297/1287297 [==============================] - 16s 12us/sample - loss: 0.0653 - val_loss: 0.0656\n",
      "Epoch 60/90\n",
      "1287297/1287297 [==============================] - 16s 13us/sample - loss: 0.0653 - val_loss: 0.0656\n",
      "Epoch 61/90\n",
      "1287297/1287297 [==============================] - 15s 12us/sample - loss: 0.0653 - val_loss: 0.0655\n",
      "Epoch 62/90\n",
      "1287297/1287297 [==============================] - 16s 12us/sample - loss: 0.0653 - val_loss: 0.0656\n",
      "Epoch 63/90\n",
      "1287297/1287297 [==============================] - 16s 12us/sample - loss: 0.0653 - val_loss: 0.0656\n",
      "Epoch 64/90\n",
      "1287297/1287297 [==============================] - 16s 12us/sample - loss: 0.0653 - val_loss: 0.0656\n",
      "Epoch 65/90\n",
      "1287297/1287297 [==============================] - 15s 12us/sample - loss: 0.0653 - val_loss: 0.0657\n",
      "Epoch 66/90\n",
      "1287297/1287297 [==============================] - 16s 12us/sample - loss: 0.0653 - val_loss: 0.0655\n",
      "Epoch 67/90\n",
      "1287297/1287297 [==============================] - 16s 12us/sample - loss: 0.0653 - val_loss: 0.0655\n",
      "Epoch 68/90\n",
      "1287297/1287297 [==============================] - 15s 12us/sample - loss: 0.0653 - val_loss: 0.0656\n",
      "Epoch 69/90\n",
      "1287297/1287297 [==============================] - 15s 12us/sample - loss: 0.0653 - val_loss: 0.0655\n",
      "Epoch 70/90\n",
      "1287297/1287297 [==============================] - 16s 13us/sample - loss: 0.0653 - val_loss: 0.0655\n",
      "Epoch 71/90\n",
      "1287297/1287297 [==============================] - 15s 12us/sample - loss: 0.0653 - val_loss: 0.0655\n",
      "Epoch 72/90\n",
      "1287297/1287297 [==============================] - 16s 12us/sample - loss: 0.0653 - val_loss: 0.0655\n",
      "Epoch 73/90\n",
      "1287297/1287297 [==============================] - 15s 12us/sample - loss: 0.0653 - val_loss: 0.0654\n",
      "Epoch 74/90\n",
      "1287297/1287297 [==============================] - 16s 12us/sample - loss: 0.0653 - val_loss: 0.0654\n",
      "Epoch 75/90\n",
      "1287297/1287297 [==============================] - 15s 12us/sample - loss: 0.0653 - val_loss: 0.0656\n",
      "Epoch 76/90\n",
      "1287297/1287297 [==============================] - 15s 12us/sample - loss: 0.0653 - val_loss: 0.0656\n",
      "Epoch 77/90\n",
      "1287297/1287297 [==============================] - 15s 12us/sample - loss: 0.0653 - val_loss: 0.0655\n",
      "Epoch 78/90\n",
      "1287297/1287297 [==============================] - 16s 13us/sample - loss: 0.0653 - val_loss: 0.0656\n",
      "Epoch 79/90\n",
      "1287297/1287297 [==============================] - 16s 12us/sample - loss: 0.0653 - val_loss: 0.0655\n",
      "Epoch 80/90\n",
      "1287297/1287297 [==============================] - 15s 12us/sample - loss: 0.0653 - val_loss: 0.0657s: 0.065 - ETA: 0s - loss: 0.\n",
      "Epoch 81/90\n",
      "1287297/1287297 [==============================] - 16s 13us/sample - loss: 0.0653 - val_loss: 0.0655\n",
      "Epoch 82/90\n",
      "1287297/1287297 [==============================] - 16s 12us/sample - loss: 0.0652 - val_loss: 0.0656\n",
      "Epoch 83/90\n",
      "1287297/1287297 [==============================] - 15s 12us/sample - loss: 0.0653 - val_loss: 0.0655\n",
      "Epoch 84/90\n",
      "1287297/1287297 [==============================] - 16s 12us/sample - loss: 0.0653 - val_loss: 0.0654\n",
      "Epoch 85/90\n",
      "1287297/1287297 [==============================] - 16s 12us/sample - loss: 0.0652 - val_loss: 0.0655\n",
      "Epoch 86/90\n",
      "1287297/1287297 [==============================] - 16s 13us/sample - loss: 0.0653 - val_loss: 0.0656\n",
      "Epoch 87/90\n",
      "1287297/1287297 [==============================] - 15s 12us/sample - loss: 0.0653 - val_loss: 0.0654\n",
      "Epoch 88/90\n",
      "1287297/1287297 [==============================] - 17s 13us/sample - loss: 0.0653 - val_loss: 0.0655\n",
      "Epoch 89/90\n",
      "1287297/1287297 [==============================] - 16s 12us/sample - loss: 0.0653 - val_loss: 0.0654\n",
      "Epoch 90/90\n",
      "1287297/1287297 [==============================] - 15s 12us/sample - loss: 0.0653 - val_loss: 0.0654\n"
     ]
    }
   ],
   "source": [
    "history_2 = model_2.fit(split_features(X_train_embed), y_train_embed,\n",
    "                        validation_data=(split_features(X_val_embed),y_val_embed),\n",
    "                        epochs=90, batch_size=128, shuffle=False, use_multiprocessing=True)"
   ]
  },
  {
   "cell_type": "code",
   "execution_count": 29,
   "metadata": {},
   "outputs": [
    {
     "data": {
      "text/plain": [
       "(57, 3)"
      ]
     },
     "execution_count": 29,
     "metadata": {},
     "output_type": "execute_result"
    }
   ],
   "source": [
    "layer = model_2.get_layer('shop_embedding')\n",
    "shop_embedding = layer.get_weights()\n",
    "shop_embedding[0].shape"
   ]
  },
  {
   "cell_type": "code",
   "execution_count": 30,
   "metadata": {},
   "outputs": [
    {
     "data": {
      "text/plain": [
       "(3, 2)"
      ]
     },
     "execution_count": 30,
     "metadata": {},
     "output_type": "execute_result"
    }
   ],
   "source": [
    "layer_year = model_2.get_layer('year_embedding')\n",
    "year_embedding = layer_year.get_weights()\n",
    "year_embedding[0].shape"
   ]
  },
  {
   "cell_type": "code",
   "execution_count": 31,
   "metadata": {},
   "outputs": [
    {
     "data": {
      "text/plain": [
       "(12, 4)"
      ]
     },
     "execution_count": 31,
     "metadata": {},
     "output_type": "execute_result"
    }
   ],
   "source": [
    "layer_month = model_2.get_layer('month_embedding')\n",
    "month_embedding= layer_month.get_weights()\n",
    "month_embedding[0].shape"
   ]
  },
  {
   "cell_type": "code",
   "execution_count": 32,
   "metadata": {},
   "outputs": [
    {
     "data": {
      "text/plain": [
       "(84, 3)"
      ]
     },
     "execution_count": 32,
     "metadata": {},
     "output_type": "execute_result"
    }
   ],
   "source": [
    "layer_cat_id = model_2.get_layer('item_cat_embedding')\n",
    "item_cat_embedding = layer_cat_id.get_weights()\n",
    "item_cat_embedding[0].shape"
   ]
  },
  {
   "cell_type": "code",
   "execution_count": 33,
   "metadata": {},
   "outputs": [],
   "source": [
    "# Save the shop_id embedding weights data\n",
    "with open('shop_id_embedding_weights_v3.pkl','wb') as f:\n",
    "    layer_shop_embedding = model_2.get_layer('shop_embedding')\n",
    "    shop_embedding_weights = layer_shop_embedding.get_weights()\n",
    "    pickle.dump(shop_embedding_weights[0],f)"
   ]
  },
  {
   "cell_type": "code",
   "execution_count": 34,
   "metadata": {},
   "outputs": [],
   "source": [
    "# Save the month embedding weights data\n",
    "with open('month_embedding_weights_v3.pkl','wb') as f:\n",
    "    layer_month_embedding = model_2.get_layer('month_embedding')\n",
    "    month_embedding_weights = layer_month_embedding.get_weights()\n",
    "    pickle.dump(month_embedding_weights[0],f)"
   ]
  },
  {
   "cell_type": "code",
   "execution_count": 35,
   "metadata": {},
   "outputs": [],
   "source": [
    "# Save the year embedding weights data\n",
    "with open('year_embedding_weights_v3.pkl','wb') as f:\n",
    "    layer_year_embedding = model_2.get_layer('year_embedding')\n",
    "    year_embedding_weights = layer_year_embedding.get_weights()\n",
    "    pickle.dump(year_embedding_weights[0],f)"
   ]
  },
  {
   "cell_type": "code",
   "execution_count": 36,
   "metadata": {},
   "outputs": [],
   "source": [
    "# Save the item_category_id weights data\n",
    "with open('item_cat_embedding_weights_v3.pkl','wb') as f:\n",
    "    layer_item_cat_embedding = model_2.get_layer('item_cat_embedding')\n",
    "    item_cat_embedding_weights = layer_item_cat_embedding.get_weights()\n",
    "    pickle.dump(item_cat_embedding_weights[0],f)"
   ]
  },
  {
   "cell_type": "code",
   "execution_count": null,
   "metadata": {},
   "outputs": [],
   "source": []
  },
  {
   "cell_type": "markdown",
   "metadata": {},
   "source": [
    "# PCA Analysis"
   ]
  },
  {
   "cell_type": "code",
   "execution_count": 2,
   "metadata": {},
   "outputs": [],
   "source": [
    "import pickle\n",
    "from sklearn.decomposition import PCA\n",
    "import matplotlib.pyplot as plt"
   ]
  },
  {
   "cell_type": "code",
   "execution_count": 6,
   "metadata": {},
   "outputs": [],
   "source": [
    "with open('shop_id_embedding_df.pkl', 'rb') as f:\n",
    "    shop_embedding_df = pickle.load(f)\n",
    "    \n",
    "with open('year_embedding_df.pkl', 'rb') as f:\n",
    "    year_embedding_df = pickle.load(f)\n",
    "\n",
    "with open('month_embedding_df.pkl','rb') as f:\n",
    "    month_embedding_df = pickle.load(f)\n",
    "    \n",
    "with open('item_cat_embedding_df.pkl', 'rb') as f:\n",
    "    item_cat_embedding_df = pickle.load(f)"
   ]
  },
  {
   "cell_type": "code",
   "execution_count": 11,
   "metadata": {},
   "outputs": [
    {
     "data": {
      "image/png": "[encoded data removed]",
      "text/plain": [
       "<Figure size 432x288 with 1 Axes>"
      ]
     },
     "metadata": {
      "needs_background": "light"
     },
     "output_type": "display_data"
    }
   ],
   "source": [
    "year_pca = PCA(n_components=2)\n",
    "year_components = year_pca.fit_transform(year_embedding_df.iloc[:,1:])\n",
    "years = ['2013','2015','2015']\n",
    "fix, ax = plt.subplots()\n",
    "ax.scatter(year_components[:,0],year_components[:,1])\n",
    "for i, txt in enumerate(years):\n",
    "    ax.annotate(txt, (year_components[i,0],year_components[i,1]))"
   ]
  },
  {
   "cell_type": "code",
   "execution_count": 12,
   "metadata": {},
   "outputs": [
    {
     "data": {
      "image/png": "[encoded data removed]",
      "text/plain": [
       "<Figure size 432x288 with 1 Axes>"
      ]
     },
     "metadata": {
      "needs_background": "light"
     },
     "output_type": "display_data"
    }
   ],
   "source": [
    "month_pca = PCA(n_components=2)\n",
    "month_components = month_pca.fit_transform(month_embedding_df.iloc[:,1:])\n",
    "months = [\"Jan\",\"Feb\",\"Mar\",\"Apr\",\"May\",\"Jun\",\n",
    "          \"Jul\",\"Aug\",\"Sep\",\"Oct\",\"Nov\",\"Dec\"]\n",
    "fix, ax = plt.subplots()\n",
    "ax.scatter(month_components[:,0],month_components[:,1])\n",
    "for i, txt in enumerate(months):\n",
    "    ax.annotate(txt, (month_components[i,0],month_components[i,1]))"
   ]
  },
  {
   "cell_type": "code",
   "execution_count": 13,
   "metadata": {},
   "outputs": [
    {
     "data": {
      "image/png": "[encoded data removed]",
      "text/plain": [
       "<Figure size 432x288 with 1 Axes>"
      ]
     },
     "metadata": {
      "needs_background": "light"
     },
     "output_type": "display_data"
    }
   ],
   "source": [
    "shop_pca = PCA(n_components=2)\n",
    "shop_components = shop_pca.fit_transform(shop_embedding_df.iloc[:,1:])\n",
    "shops = list(shop_embedding_df.iloc[:,0])\n",
    "fix, ax = plt.subplots()\n",
    "ax.scatter(shop_components[:,0], shop_components[:,1])\n",
    "for i, txt in enumerate(shops):\n",
    "    ax.annotate(txt, (shop_components[i,0],shop_components[i,1]))"
   ]
  },
  {
   "cell_type": "code",
   "execution_count": 17,
   "metadata": {},
   "outputs": [
    {
     "data": {
      "image/png": "[encoded data removed]",
      "text/plain": [
       "<Figure size 432x288 with 1 Axes>"
      ]
     },
     "metadata": {
      "needs_background": "light"
     },
     "output_type": "display_data"
    }
   ],
   "source": [
    "item_cat_pca = PCA(n_components=2)\n",
    "item_cat_components = item_cat_pca.fit_transform(item_cat_embedding_df.iloc[:,1:])\n",
    "item_cats = list(item_cat_embedding_df.iloc[:,0])\n",
    "fix, ax = plt.subplots()\n",
    "ax.scatter(item_cat_components[:,0], item_cat_components[:,1])\n",
    "for i, txt in enumerate(item_cats):\n",
    "    ax.annotate(txt, (item_cat_components[i,0],item_cat_components[i,1]))"
   ]
  },
  {
   "cell_type": "code",
   "execution_count": null,
   "metadata": {},
   "outputs": [],
   "source": []
  }
 ],
 "metadata": {
  "kernelspec": {
   "display_name": "CSCI567",
   "language": "python",
   "name": "csci567"
  },
  "language_info": {
   "codemirror_mode": {
    "name": "ipython",
    "version": 3
   },
   "file_extension": ".py",
   "mimetype": "text/x-python",
   "name": "python",
   "nbconvert_exporter": "python",
   "pygments_lexer": "ipython3",
   "version": "3.7.1"
  }
 },
 "nbformat": 4,
 "nbformat_minor": 4
}
