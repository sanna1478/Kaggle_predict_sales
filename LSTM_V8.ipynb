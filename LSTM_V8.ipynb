{
 "cells": [
  {
   "cell_type": "code",
   "execution_count": 6,
   "metadata": {},
   "outputs": [],
   "source": [
    "import numpy as np\n",
    "import pandas as pd\n",
    "import matplotlib.pyplot as plt\n",
    "from tensorflow.keras.models import Sequential\n",
    "from tensorflow.keras.layers import Dense\n",
    "from tensorflow.keras.layers import LSTM\n",
    "from sklearn.model_selection import train_test_split\n",
    "from tensorflow.keras.models import load_model\n",
    "from sklearn.model_selection import train_test_split\n",
    "import pickle\n",
    "import gc\n",
    "from tqdm.notebook import tqdm\n",
    "from collections import deque"
   ]
  },
  {
   "cell_type": "code",
   "execution_count": 4,
   "metadata": {},
   "outputs": [],
   "source": [
    "with open(\"simplified_data_v2/train_features.pkl\",'rb') as f:\n",
    "    X = pickle.load(f)\n",
    "with open(\"simplified_data_v2/train_labels.pkl\",'rb') as f:\n",
    "    y = pickle.load(f)"
   ]
  },
  {
   "cell_type": "code",
   "execution_count": 12,
   "metadata": {},
   "outputs": [],
   "source": [
    "y_scaled = y.clip(0,40)\n",
    "y_scaled = np.log1p(y_scaled)/np.log1p(40)"
   ]
  },
  {
   "cell_type": "code",
   "execution_count": 13,
   "metadata": {},
   "outputs": [],
   "source": [
    "X_train, X_test, y_train, y_test = train_test_split(X, y_scaled,test_size=0.2)\n"
   ]
  },
  {
   "cell_type": "code",
   "execution_count": 14,
   "metadata": {},
   "outputs": [
    {
     "name": "stdout",
     "output_type": "stream",
     "text": [
      "Model: \"sequential_1\"\n",
      "_________________________________________________________________\n",
      "Layer (type)                 Output Shape              Param #   \n",
      "=================================================================\n",
      "lstm_2 (LSTM)                (None, 2, 256)            282624    \n",
      "_________________________________________________________________\n",
      "lstm_3 (LSTM)                (None, 64)                82176     \n",
      "_________________________________________________________________\n",
      "dense_1 (Dense)              (None, 1)                 65        \n",
      "=================================================================\n",
      "Total params: 364,865\n",
      "Trainable params: 364,865\n",
      "Non-trainable params: 0\n",
      "_________________________________________________________________\n"
     ]
    }
   ],
   "source": [
    "model_lstm = Sequential()\n",
    "model_lstm.add(LSTM(256, input_shape=(2,19), return_sequences=True))\n",
    "model_lstm.add(LSTM(64))\n",
    "model_lstm.add(Dense(units=1))\n",
    "model_lstm.compile(loss='mse', optimizer='adam', metrics=['accuracy']) # Increase Learning rate by steps of 0.1\n",
    "model_lstm.summary()"
   ]
  },
  {
   "cell_type": "code",
   "execution_count": 15,
   "metadata": {},
   "outputs": [
    {
     "name": "stdout",
     "output_type": "stream",
     "text": [
      "Train on 1799472 samples, validate on 449869 samples\n",
      "Epoch 1/70\n",
      "1799472/1799472 [==============================] - 321s 178us/sample - loss: 0.0138 - accuracy: 0.5598 - val_loss: 0.0136 - val_accuracy: 0.5592\n",
      "Epoch 2/70\n",
      "1799472/1799472 [==============================] - 324s 180us/sample - loss: 0.0135 - accuracy: 0.5599 - val_loss: 0.0136 - val_accuracy: 0.5591\n",
      "Epoch 3/70\n",
      "1799472/1799472 [==============================] - 326s 181us/sample - loss: 0.0133 - accuracy: 0.5599 - val_loss: 0.0134 - val_accuracy: 0.5592\n",
      "Epoch 4/70\n",
      "1799472/1799472 [==============================] - 326s 181us/sample - loss: 0.0132 - accuracy: 0.5599 - val_loss: 0.0133 - val_accuracy: 0.5592\n",
      "Epoch 5/70\n",
      "1799472/1799472 [==============================] - 316s 176us/sample - loss: 0.0131 - accuracy: 0.5599 - val_loss: 0.0132 - val_accuracy: 0.5592\n",
      "Epoch 6/70\n",
      "1799472/1799472 [==============================] - 317s 176us/sample - loss: 0.0130 - accuracy: 0.5599 - val_loss: 0.0132 - val_accuracy: 0.5592\n",
      "Epoch 7/70\n",
      "1799472/1799472 [==============================] - 321s 178us/sample - loss: 0.0129 - accuracy: 0.5599 - val_loss: 0.0131 - val_accuracy: 0.5592\n",
      "Epoch 8/70\n",
      "1799472/1799472 [==============================] - 324s 180us/sample - loss: 0.0129 - accuracy: 0.5599 - val_loss: 0.0131 - val_accuracy: 0.5592\n",
      "Epoch 9/70\n",
      "1799472/1799472 [==============================] - 323s 179us/sample - loss: 0.0128 - accuracy: 0.5599 - val_loss: 0.0131 - val_accuracy: 0.5592\n",
      "Epoch 10/70\n",
      "1799472/1799472 [==============================] - 321s 179us/sample - loss: 0.0127 - accuracy: 0.5599 - val_loss: 0.0130 - val_accuracy: 0.5592\n",
      "Epoch 11/70\n",
      "1799472/1799472 [==============================] - 319s 177us/sample - loss: 0.0126 - accuracy: 0.5599 - val_loss: 0.0131 - val_accuracy: 0.5591\n",
      "Epoch 12/70\n",
      "1799472/1799472 [==============================] - 323s 179us/sample - loss: 0.0125 - accuracy: 0.5599 - val_loss: 0.0131 - val_accuracy: 0.5592\n",
      "Epoch 13/70\n",
      "1799472/1799472 [==============================] - 323s 180us/sample - loss: 0.0125 - accuracy: 0.5599 - val_loss: 0.0131 - val_accuracy: 0.5592\n",
      "Epoch 14/70\n",
      "1799472/1799472 [==============================] - 323s 179us/sample - loss: 0.0124 - accuracy: 0.5599 - val_loss: 0.0131 - val_accuracy: 0.5592\n",
      "Epoch 15/70\n",
      "1799472/1799472 [==============================] - 323s 180us/sample - loss: 0.0123 - accuracy: 0.5599 - val_loss: 0.0131 - val_accuracy: 0.5592\n",
      "Epoch 16/70\n",
      "1799472/1799472 [==============================] - 323s 180us/sample - loss: 0.0122 - accuracy: 0.5600 - val_loss: 0.0132 - val_accuracy: 0.5591\n",
      "Epoch 17/70\n",
      "1799472/1799472 [==============================] - 323s 180us/sample - loss: 0.0122 - accuracy: 0.5600 - val_loss: 0.0131 - val_accuracy: 0.5591\n",
      "Epoch 18/70\n",
      "1799472/1799472 [==============================] - 327s 182us/sample - loss: 0.0121 - accuracy: 0.5599 - val_loss: 0.0131 - val_accuracy: 0.5592\n",
      "Epoch 19/70\n",
      "1799472/1799472 [==============================] - 326s 181us/sample - loss: 0.0120 - accuracy: 0.5600 - val_loss: 0.0132 - val_accuracy: 0.5592\n",
      "Epoch 20/70\n",
      "1799472/1799472 [==============================] - 326s 181us/sample - loss: 0.0119 - accuracy: 0.5600 - val_loss: 0.0132 - val_accuracy: 0.5591\n",
      "Epoch 21/70\n",
      "1799472/1799472 [==============================] - 326s 181us/sample - loss: 0.0119 - accuracy: 0.5600 - val_loss: 0.0132 - val_accuracy: 0.5592\n",
      "Epoch 22/70\n",
      "1799472/1799472 [==============================] - 326s 181us/sample - loss: 0.0118 - accuracy: 0.5600 - val_loss: 0.0133 - val_accuracy: 0.5591\n",
      "Epoch 23/70\n",
      "1799472/1799472 [==============================] - 326s 181us/sample - loss: 0.0117 - accuracy: 0.5600 - val_loss: 0.0133 - val_accuracy: 0.5591\n",
      "Epoch 24/70\n",
      "1799472/1799472 [==============================] - 325s 181us/sample - loss: 0.0116 - accuracy: 0.5600 - val_loss: 0.0134 - val_accuracy: 0.5591\n",
      "Epoch 25/70\n",
      "1799472/1799472 [==============================] - 326s 181us/sample - loss: 0.0116 - accuracy: 0.5600 - val_loss: 0.0134 - val_accuracy: 0.5591\n",
      "Epoch 26/70\n",
      "1799472/1799472 [==============================] - 324s 180us/sample - loss: 0.0115 - accuracy: 0.5600 - val_loss: 0.0133 - val_accuracy: 0.5591\n",
      "Epoch 27/70\n",
      "1799472/1799472 [==============================] - 325s 181us/sample - loss: 0.0114 - accuracy: 0.5600 - val_loss: 0.0134 - val_accuracy: 0.5591\n",
      "Epoch 28/70\n",
      "1799472/1799472 [==============================] - 324s 180us/sample - loss: 0.0114 - accuracy: 0.5600 - val_loss: 0.0135 - val_accuracy: 0.5591\n",
      "Epoch 29/70\n",
      "1799472/1799472 [==============================] - 326s 181us/sample - loss: 0.0113 - accuracy: 0.5600 - val_loss: 0.0135 - val_accuracy: 0.5591\n",
      "Epoch 30/70\n",
      "1799472/1799472 [==============================] - 326s 181us/sample - loss: 0.0113 - accuracy: 0.5600 - val_loss: 0.0136 - val_accuracy: 0.5590\n",
      "Epoch 31/70\n",
      "1799472/1799472 [==============================] - 326s 181us/sample - loss: 0.0112 - accuracy: 0.5600 - val_loss: 0.0136 - val_accuracy: 0.5591\n",
      "Epoch 32/70\n",
      "1799472/1799472 [==============================] - 326s 181us/sample - loss: 0.0111 - accuracy: 0.5600 - val_loss: 0.0136 - val_accuracy: 0.5591\n",
      "Epoch 33/70\n",
      "1799472/1799472 [==============================] - 325s 181us/sample - loss: 0.0111 - accuracy: 0.5600 - val_loss: 0.0137 - val_accuracy: 0.5590\n",
      "Epoch 34/70\n",
      "1799472/1799472 [==============================] - 325s 181us/sample - loss: 0.0110 - accuracy: 0.5600 - val_loss: 0.0137 - val_accuracy: 0.5591\n",
      "Epoch 35/70\n",
      "1799472/1799472 [==============================] - 326s 181us/sample - loss: 0.0110 - accuracy: 0.5600 - val_loss: 0.0138 - val_accuracy: 0.5591\n",
      "Epoch 36/70\n",
      "1799472/1799472 [==============================] - 324s 180us/sample - loss: 0.0109 - accuracy: 0.5600 - val_loss: 0.0138 - val_accuracy: 0.5590\n",
      "Epoch 37/70\n",
      "1799472/1799472 [==============================] - 319s 177us/sample - loss: 0.0109 - accuracy: 0.5600 - val_loss: 0.0138 - val_accuracy: 0.5590\n",
      "Epoch 38/70\n",
      "1799472/1799472 [==============================] - 323s 179us/sample - loss: 0.0108 - accuracy: 0.5600 - val_loss: 0.0138 - val_accuracy: 0.5590\n",
      "Epoch 39/70\n",
      "1799472/1799472 [==============================] - 324s 180us/sample - loss: 0.0108 - accuracy: 0.5600 - val_loss: 0.0138 - val_accuracy: 0.5590\n",
      "Epoch 40/70\n",
      "1799472/1799472 [==============================] - 325s 180us/sample - loss: 0.0107 - accuracy: 0.5600 - val_loss: 0.0139 - val_accuracy: 0.5590\n",
      "Epoch 41/70\n",
      "1799472/1799472 [==============================] - 325s 181us/sample - loss: 0.0107 - accuracy: 0.5600 - val_loss: 0.0139 - val_accuracy: 0.5590\n",
      "Epoch 42/70\n",
      "1799472/1799472 [==============================] - 326s 181us/sample - loss: 0.0106 - accuracy: 0.5600 - val_loss: 0.0140 - val_accuracy: 0.5590\n",
      "Epoch 43/70\n",
      "1799472/1799472 [==============================] - 326s 181us/sample - loss: 0.0106 - accuracy: 0.5600 - val_loss: 0.0140 - val_accuracy: 0.5590\n",
      "Epoch 44/70\n",
      "1799472/1799472 [==============================] - 324s 180us/sample - loss: 0.0105 - accuracy: 0.5600 - val_loss: 0.0141 - val_accuracy: 0.5590\n",
      "Epoch 45/70\n",
      "1799472/1799472 [==============================] - 326s 181us/sample - loss: 0.0105 - accuracy: 0.5600 - val_loss: 0.0141 - val_accuracy: 0.5589\n",
      "Epoch 46/70\n",
      "1799472/1799472 [==============================] - 327s 182us/sample - loss: 0.0104 - accuracy: 0.5600 - val_loss: 0.0142 - val_accuracy: 0.5589\n",
      "Epoch 47/70\n",
      "1799472/1799472 [==============================] - 327s 182us/sample - loss: 0.0104 - accuracy: 0.5600 - val_loss: 0.0141 - val_accuracy: 0.5590\n",
      "Epoch 48/70\n",
      "1799472/1799472 [==============================] - 326s 181us/sample - loss: 0.0104 - accuracy: 0.5600 - val_loss: 0.0142 - val_accuracy: 0.5590\n",
      "Epoch 49/70\n",
      "1799472/1799472 [==============================] - 327s 182us/sample - loss: 0.0103 - accuracy: 0.5600 - val_loss: 0.0142 - val_accuracy: 0.5589\n",
      "Epoch 50/70\n",
      "1799472/1799472 [==============================] - 327s 182us/sample - loss: 0.0103 - accuracy: 0.5600 - val_loss: 0.0142 - val_accuracy: 0.5590\n",
      "Epoch 51/70\n",
      "1799472/1799472 [==============================] - 327s 182us/sample - loss: 0.0102 - accuracy: 0.5600 - val_loss: 0.0143 - val_accuracy: 0.5590\n",
      "Epoch 52/70\n",
      "1799472/1799472 [==============================] - 327s 182us/sample - loss: 0.0102 - accuracy: 0.5600 - val_loss: 0.0144 - val_accuracy: 0.5590\n",
      "Epoch 53/70\n",
      "1799472/1799472 [==============================] - 327s 182us/sample - loss: 0.0102 - accuracy: 0.5600 - val_loss: 0.0144 - val_accuracy: 0.5590\n",
      "Epoch 54/70\n",
      "1799472/1799472 [==============================] - 327s 182us/sample - loss: 0.0101 - accuracy: 0.5600 - val_loss: 0.0143 - val_accuracy: 0.5590\n",
      "Epoch 55/70\n",
      "1799472/1799472 [==============================] - 327s 182us/sample - loss: 0.0101 - accuracy: 0.5600 - val_loss: 0.0143 - val_accuracy: 0.5590\n",
      "Epoch 56/70\n",
      "1799472/1799472 [==============================] - 328s 182us/sample - loss: 0.0101 - accuracy: 0.5600 - val_loss: 0.0145 - val_accuracy: 0.5589\n",
      "Epoch 57/70\n",
      "1799472/1799472 [==============================] - 327s 182us/sample - loss: 0.0100 - accuracy: 0.5600 - val_loss: 0.0145 - val_accuracy: 0.5589\n",
      "Epoch 58/70\n",
      "1799472/1799472 [==============================] - 327s 182us/sample - loss: 0.0100 - accuracy: 0.5600 - val_loss: 0.0146 - val_accuracy: 0.5589\n",
      "Epoch 59/70\n",
      "1799472/1799472 [==============================] - 326s 181us/sample - loss: 0.0100 - accuracy: 0.5600 - val_loss: 0.0146 - val_accuracy: 0.5589\n",
      "Epoch 60/70\n",
      "1799472/1799472 [==============================] - 326s 181us/sample - loss: 0.0099 - accuracy: 0.5600 - val_loss: 0.0145 - val_accuracy: 0.5590\n",
      "Epoch 61/70\n",
      "1799472/1799472 [==============================] - 328s 182us/sample - loss: 0.0099 - accuracy: 0.5600 - val_loss: 0.0146 - val_accuracy: 0.5589\n",
      "Epoch 62/70\n",
      "1799472/1799472 [==============================] - 328s 182us/sample - loss: 0.0099 - accuracy: 0.5600 - val_loss: 0.0146 - val_accuracy: 0.5589\n",
      "Epoch 63/70\n",
      "1799472/1799472 [==============================] - 327s 182us/sample - loss: 0.0099 - accuracy: 0.5600 - val_loss: 0.0146 - val_accuracy: 0.5590\n",
      "Epoch 64/70\n",
      "1799472/1799472 [==============================] - 327s 182us/sample - loss: 0.0098 - accuracy: 0.5600 - val_loss: 0.0147 - val_accuracy: 0.5589\n",
      "Epoch 65/70\n",
      "1799472/1799472 [==============================] - 330s 183us/sample - loss: 0.0098 - accuracy: 0.5600 - val_loss: 0.0146 - val_accuracy: 0.5589\n",
      "Epoch 66/70\n",
      "1799472/1799472 [==============================] - 346s 192us/sample - loss: 0.0098 - accuracy: 0.5600 - val_loss: 0.0148 - val_accuracy: 0.5589\n",
      "Epoch 67/70\n",
      "1799472/1799472 [==============================] - 339s 188us/sample - loss: 0.0097 - accuracy: 0.5600 - val_loss: 0.0147 - val_accuracy: 0.5589\n",
      "Epoch 68/70\n",
      "1799472/1799472 [==============================] - 338s 188us/sample - loss: 0.0097 - accuracy: 0.5600 - val_loss: 0.0149 - val_accuracy: 0.5588\n",
      "Epoch 69/70\n",
      "1799472/1799472 [==============================] - 332s 185us/sample - loss: 0.0097 - accuracy: 0.5600 - val_loss: 0.0147 - val_accuracy: 0.5590\n",
      "Epoch 70/70\n",
      "1799472/1799472 [==============================] - 328s 182us/sample - loss: 0.0097 - accuracy: 0.5600 - val_loss: 0.0148 - val_accuracy: 0.5590\n"
     ]
    }
   ],
   "source": [
    "history = model_lstm.fit(X_train, y_train, \n",
    "                         validation_data=(X_test, y_test), \n",
    "                         epochs=70, \n",
    "                         batch_size=50)"
   ]
  },
  {
   "cell_type": "code",
   "execution_count": 17,
   "metadata": {},
   "outputs": [],
   "source": [
    "y_pre = model_lstm.predict(X_test)"
   ]
  },
  {
   "cell_type": "code",
   "execution_count": 22,
   "metadata": {},
   "outputs": [],
   "source": [
    "Y_pre_unscaled = np.expm1(y_pre * np.log1p(40))\n",
    "y_unscaled = np.expm1(y_test * np.log1p(40))"
   ]
  },
  {
   "cell_type": "code",
   "execution_count": 23,
   "metadata": {},
   "outputs": [
    {
     "name": "stdout",
     "output_type": "stream",
     "text": [
      "Val RMSE: 1.348\n"
     ]
    },
    {
     "data": {
      "image/png": "[encoded data removed]",
      "text/plain": [
       "<Figure size 432x288 with 1 Axes>"
      ]
     },
     "metadata": {
      "needs_background": "light"
     },
     "output_type": "display_data"
    }
   ],
   "source": [
    "from sklearn.metrics import mean_squared_error\n",
    "from numpy import sqrt\n",
    "rmse = sqrt(mean_squared_error(Y_pre_unscaled,y_unscaled))\n",
    "print('Val RMSE: %.3f' % rmse)\n",
    "\n",
    "# Plot training & validation loss values\n",
    "plt.plot(history.history['loss'])\n",
    "plt.plot(history.history['val_loss'])\n",
    "plt.title('Model loss (epoch=70, batchsize=10000)')\n",
    "plt.ylabel('Loss')\n",
    "plt.xlabel('Epoch')\n",
    "plt.legend(['Train', 'Test'], loc='upper left')\n",
    "plt.show()"
   ]
  },
  {
   "cell_type": "code",
   "execution_count": 24,
   "metadata": {},
   "outputs": [],
   "source": [
    "model_lstm.save(\"LSTM_Model_v2.h5\")"
   ]
  },
  {
   "cell_type": "code",
   "execution_count": 26,
   "metadata": {},
   "outputs": [],
   "source": [
    "with open(\"LSTM_history_LSTM_model_v2.pkl\",'wb') as f:\n",
    "    pickle.dump(history.history,f)"
   ]
  },
  {
   "cell_type": "code",
   "execution_count": null,
   "metadata": {},
   "outputs": [],
   "source": []
  }
 ],
 "metadata": {
  "kernelspec": {
   "display_name": "CSCI567",
   "language": "python",
   "name": "csci567"
  },
  "language_info": {
   "codemirror_mode": {
    "name": "ipython",
    "version": 3
   },
   "file_extension": ".py",
   "mimetype": "text/x-python",
   "name": "python",
   "nbconvert_exporter": "python",
   "pygments_lexer": "ipython3",
   "version": "3.7.1"
  }
 },
 "nbformat": 4,
 "nbformat_minor": 4
}
