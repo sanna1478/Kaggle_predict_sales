{
 "cells": [
  {
   "cell_type": "code",
   "execution_count": 1,
   "metadata": {},
   "outputs": [],
   "source": [
    "import numpy as np\n",
    "import pandas as pd\n",
    "import matplotlib.pyplot as plt\n",
    "from tensorflow.keras.models import Sequential\n",
    "from tensorflow.keras.layers import Dense\n",
    "from tensorflow.keras.layers import LSTM\n",
    "from tensorflow.keras.layers import Dropout\n",
    "from sklearn.model_selection import train_test_split\n",
    "from tensorflow.keras.models import load_model\n",
    "from sklearn.model_selection import train_test_split\n",
    "import pickle\n",
    "import gc\n",
    "from tqdm.notebook import tqdm\n",
    "from collections import deque"
   ]
  },
  {
   "cell_type": "code",
   "execution_count": 2,
   "metadata": {},
   "outputs": [],
   "source": [
    "with open(\"simplified_data_v2/train_features_v3.pkl\",'rb') as f:\n",
    "    X = pickle.load(f)\n",
    "with open(\"simplified_data_v2/train_labels_v3.pkl\",'rb') as f:\n",
    "    y = pickle.load(f)"
   ]
  },
  {
   "cell_type": "code",
   "execution_count": 3,
   "metadata": {},
   "outputs": [],
   "source": [
    "y_scaled = y.clip(0,40)\n",
    "y_scaled = np.log1p(y_scaled)/np.log1p(40)"
   ]
  },
  {
   "cell_type": "code",
   "execution_count": 4,
   "metadata": {},
   "outputs": [],
   "source": [
    "X_train, X_test, y_train, y_test = train_test_split(X, y_scaled,test_size=0.2)\n",
    "del X; gc.collect();"
   ]
  },
  {
   "cell_type": "code",
   "execution_count": 6,
   "metadata": {},
   "outputs": [
    {
     "data": {
      "text/plain": [
       "(1932216, 2, 23)"
      ]
     },
     "execution_count": 6,
     "metadata": {},
     "output_type": "execute_result"
    }
   ],
   "source": [
    "X_train.shape"
   ]
  },
  {
   "cell_type": "code",
   "execution_count": 7,
   "metadata": {},
   "outputs": [
    {
     "name": "stdout",
     "output_type": "stream",
     "text": [
      "Model: \"sequential\"\n",
      "_________________________________________________________________\n",
      "Layer (type)                 Output Shape              Param #   \n",
      "=================================================================\n",
      "lstm (LSTM)                  (None, 2, 256)            286720    \n",
      "_________________________________________________________________\n",
      "dropout (Dropout)            (None, 2, 256)            0         \n",
      "_________________________________________________________________\n",
      "lstm_1 (LSTM)                (None, 64)                82176     \n",
      "_________________________________________________________________\n",
      "dropout_1 (Dropout)          (None, 64)                0         \n",
      "_________________________________________________________________\n",
      "dense (Dense)                (None, 1)                 65        \n",
      "=================================================================\n",
      "Total params: 368,961\n",
      "Trainable params: 368,961\n",
      "Non-trainable params: 0\n",
      "_________________________________________________________________\n"
     ]
    }
   ],
   "source": [
    "model_lstm = Sequential()\n",
    "model_lstm.add(LSTM(256, input_shape=(2,23), return_sequences=True))\n",
    "model_lstm.add(Dropout(0.5))\n",
    "model_lstm.add(LSTM(64))\n",
    "model_lstm.add(Dropout(0.5))\n",
    "model_lstm.add(Dense(units=1, activation='sigmoid'))\n",
    "model_lstm.compile(loss='mse', optimizer='adam', metrics=['accuracy']) # Increase Learning rate by steps of 0.1\n",
    "model_lstm.summary()"
   ]
  },
  {
   "cell_type": "code",
   "execution_count": 8,
   "metadata": {},
   "outputs": [
    {
     "name": "stdout",
     "output_type": "stream",
     "text": [
      "Train on 1932216 samples, validate on 483055 samples\n",
      "Epoch 1/30\n",
      "1932216/1932216 [==============================] - 184s 95us/sample - loss: 0.0137 - accuracy: 0.5898 - val_loss: 0.0130 - val_accuracy: 0.5902\n",
      "Epoch 2/30\n",
      "1932216/1932216 [==============================] - 194s 100us/sample - loss: 0.0131 - accuracy: 0.5899 - val_loss: 0.0128 - val_accuracy: 0.5902\n",
      "Epoch 3/30\n",
      "1932216/1932216 [==============================] - 200s 104us/sample - loss: 0.0129 - accuracy: 0.5899 - val_loss: 0.0127 - val_accuracy: 0.5901\n",
      "Epoch 4/30\n",
      "1932216/1932216 [==============================] - 218s 113us/sample - loss: 0.0129 - accuracy: 0.5899 - val_loss: 0.0127 - val_accuracy: 0.5901\n",
      "Epoch 5/30\n",
      "1932216/1932216 [==============================] - 186s 97us/sample - loss: 0.0128 - accuracy: 0.5899 - val_loss: 0.0126 - val_accuracy: 0.5901\n",
      "Epoch 6/30\n",
      "1932216/1932216 [==============================] - 183s 95us/sample - loss: 0.0128 - accuracy: 0.5899 - val_loss: 0.0126 - val_accuracy: 0.5902\n",
      "Epoch 7/30\n",
      "1932216/1932216 [==============================] - 183s 95us/sample - loss: 0.0127 - accuracy: 0.5899 - val_loss: 0.0125 - val_accuracy: 0.5901\n",
      "Epoch 8/30\n",
      "1932216/1932216 [==============================] - 193s 100us/sample - loss: 0.0127 - accuracy: 0.5899 - val_loss: 0.0125 - val_accuracy: 0.5902\n",
      "Epoch 9/30\n",
      "1932216/1932216 [==============================] - 188s 97us/sample - loss: 0.0126 - accuracy: 0.5899 - val_loss: 0.0124 - val_accuracy: 0.5902\n",
      "Epoch 10/30\n",
      "1932216/1932216 [==============================] - 191s 99us/sample - loss: 0.0126 - accuracy: 0.5899 - val_loss: 0.0124 - val_accuracy: 0.5902\n",
      "Epoch 11/30\n",
      "1932216/1932216 [==============================] - 201s 104us/sample - loss: 0.0125 - accuracy: 0.5899 - val_loss: 0.0124 - val_accuracy: 0.5902\n",
      "Epoch 12/30\n",
      "1932216/1932216 [==============================] - 193s 100us/sample - loss: 0.0125 - accuracy: 0.5899 - val_loss: 0.0124 - val_accuracy: 0.5902\n",
      "Epoch 13/30\n",
      "1932216/1932216 [==============================] - 210s 109us/sample - loss: 0.0125 - accuracy: 0.5899 - val_loss: 0.0124 - val_accuracy: 0.5902\n",
      "Epoch 14/30\n",
      "1932216/1932216 [==============================] - 211s 109us/sample - loss: 0.0124 - accuracy: 0.5899 - val_loss: 0.0124 - val_accuracy: 0.5902\n",
      "Epoch 15/30\n",
      "1932216/1932216 [==============================] - 214s 111us/sample - loss: 0.0124 - accuracy: 0.5899 - val_loss: 0.0123 - val_accuracy: 0.5902\n",
      "Epoch 16/30\n",
      "1932216/1932216 [==============================] - 225s 117us/sample - loss: 0.0124 - accuracy: 0.5899 - val_loss: 0.0123 - val_accuracy: 0.5902\n",
      "Epoch 17/30\n",
      "1932216/1932216 [==============================] - 221s 114us/sample - loss: 0.0124 - accuracy: 0.5899 - val_loss: 0.0123 - val_accuracy: 0.5902\n",
      "Epoch 18/30\n",
      "1932216/1932216 [==============================] - 211s 109us/sample - loss: 0.0123 - accuracy: 0.5899 - val_loss: 0.0123 - val_accuracy: 0.5902\n",
      "Epoch 19/30\n",
      "1932216/1932216 [==============================] - 192s 99us/sample - loss: 0.0123 - accuracy: 0.5900 - val_loss: 0.0123 - val_accuracy: 0.5902\n",
      "Epoch 20/30\n",
      "1932216/1932216 [==============================] - 196s 101us/sample - loss: 0.0123 - accuracy: 0.5899 - val_loss: 0.0123 - val_accuracy: 0.5902\n",
      "Epoch 21/30\n",
      "1932216/1932216 [==============================] - 193s 100us/sample - loss: 0.0123 - accuracy: 0.5899 - val_loss: 0.0123 - val_accuracy: 0.5902\n",
      "Epoch 22/30\n",
      "1932216/1932216 [==============================] - 192s 99us/sample - loss: 0.0122 - accuracy: 0.5900 - val_loss: 0.0122 - val_accuracy: 0.5902\n",
      "Epoch 23/30\n",
      "1932216/1932216 [==============================] - 194s 100us/sample - loss: 0.0122 - accuracy: 0.5900 - val_loss: 0.0122 - val_accuracy: 0.5902\n",
      "Epoch 24/30\n",
      "1932216/1932216 [==============================] - 194s 101us/sample - loss: 0.0122 - accuracy: 0.5900 - val_loss: 0.0122 - val_accuracy: 0.5902\n",
      "Epoch 25/30\n",
      "1932216/1932216 [==============================] - 194s 101us/sample - loss: 0.0122 - accuracy: 0.5900 - val_loss: 0.0122 - val_accuracy: 0.5902\n",
      "Epoch 26/30\n",
      "1932216/1932216 [==============================] - 194s 100us/sample - loss: 0.0122 - accuracy: 0.5899 - val_loss: 0.0122 - val_accuracy: 0.5902\n",
      "Epoch 27/30\n",
      "1932216/1932216 [==============================] - 213s 110us/sample - loss: 0.0121 - accuracy: 0.5899 - val_loss: 0.0122 - val_accuracy: 0.5902\n",
      "Epoch 28/30\n",
      "1932216/1932216 [==============================] - 206s 107us/sample - loss: 0.0121 - accuracy: 0.5900 - val_loss: 0.0122 - val_accuracy: 0.5902\n",
      "Epoch 29/30\n",
      "1932216/1932216 [==============================] - 197s 102us/sample - loss: 0.0121 - accuracy: 0.5900 - val_loss: 0.0122 - val_accuracy: 0.5902\n",
      "Epoch 30/30\n",
      "1932216/1932216 [==============================] - 194s 100us/sample - loss: 0.0121 - accuracy: 0.5900 - val_loss: 0.0122 - val_accuracy: 0.5902\n"
     ]
    }
   ],
   "source": [
    "history = model_lstm.fit(X_train, y_train, validation_data=(X_test, y_test), epochs=30, batch_size=128)"
   ]
  },
  {
   "cell_type": "code",
   "execution_count": 9,
   "metadata": {},
   "outputs": [],
   "source": [
    "y_pre = model_lstm.predict(X_test)"
   ]
  },
  {
   "cell_type": "code",
   "execution_count": 10,
   "metadata": {},
   "outputs": [],
   "source": [
    "y_pre_unscaled = np.expm1(y_pre * np.log1p(40))\n",
    "y_unscaled = np.expm1(y_test * np.log1p(40))"
   ]
  },
  {
   "cell_type": "code",
   "execution_count": 11,
   "metadata": {},
   "outputs": [
    {
     "name": "stdout",
     "output_type": "stream",
     "text": [
      "Val RMSE: 1.239\n"
     ]
    },
    {
     "data": {
      "image/png": "[encoded data removed]",
      "text/plain": [
       "<Figure size 432x288 with 1 Axes>"
      ]
     },
     "metadata": {
      "needs_background": "light"
     },
     "output_type": "display_data"
    }
   ],
   "source": [
    "from sklearn.metrics import mean_squared_error\n",
    "from numpy import sqrt\n",
    "rmse = sqrt(mean_squared_error(y_pre_unscaled,y_unscaled))\n",
    "print('Val RMSE: %.3f' % rmse)\n",
    "\n",
    "# Plot training & validation loss values\n",
    "plt.plot(history.history['loss'])\n",
    "plt.plot(history.history['val_loss'])\n",
    "plt.title('Model loss (epoch=50, batchsize=128)')\n",
    "plt.ylabel('Loss')\n",
    "plt.xlabel('Epoch')\n",
    "plt.legend(['Train', 'Test'], loc='upper left')\n",
    "plt.show()"
   ]
  },
  {
   "cell_type": "code",
   "execution_count": null,
   "metadata": {},
   "outputs": [],
   "source": []
  },
  {
   "cell_type": "markdown",
   "metadata": {},
   "source": [
    "# Prediction on The Kaggle"
   ]
  },
  {
   "cell_type": "markdown",
   "metadata": {},
   "source": [
    "## Keys In Trained Data"
   ]
  },
  {
   "cell_type": "code",
   "execution_count": 39,
   "metadata": {},
   "outputs": [],
   "source": [
    "with open('simplified_data_v2/kaggle_pred.pkl','rb') as f:\n",
    "    X_kaggle = pickle.load(f)\n",
    "\n",
    "with open('simplified_data_v2/kaggle_pred_ids.pkl','rb') as f:\n",
    "    ids = pickle.load(f)"
   ]
  },
  {
   "cell_type": "code",
   "execution_count": 40,
   "metadata": {},
   "outputs": [],
   "source": [
    "y_kaggle_prediction = model_lstm.predict(X_kaggle)"
   ]
  },
  {
   "cell_type": "code",
   "execution_count": 41,
   "metadata": {},
   "outputs": [],
   "source": [
    "y_kaggle_unscaled = np.expm1(y_kaggle_prediction * np.log1p(40))\n",
    "y_kaggle_unscaled = y_kaggle_unscaled.clip(0,20)"
   ]
  },
  {
   "cell_type": "code",
   "execution_count": 42,
   "metadata": {},
   "outputs": [
    {
     "data": {
      "text/plain": [
       "(214200, 1)"
      ]
     },
     "execution_count": 42,
     "metadata": {},
     "output_type": "execute_result"
    }
   ],
   "source": [
    "y_kaggle_unscaled.shape"
   ]
  },
  {
   "cell_type": "code",
   "execution_count": 45,
   "metadata": {},
   "outputs": [
    {
     "data": {
      "text/plain": [
       "(214200, 1)"
      ]
     },
     "execution_count": 45,
     "metadata": {},
     "output_type": "execute_result"
    }
   ],
   "source": [
    "val = ids.reshape(-1,1)\n",
    "val.shape"
   ]
  },
  {
   "cell_type": "code",
   "execution_count": 49,
   "metadata": {},
   "outputs": [],
   "source": [
    "data = np.concatenate((val,y_kaggle_unscaled),axis=1)"
   ]
  },
  {
   "cell_type": "code",
   "execution_count": 52,
   "metadata": {},
   "outputs": [],
   "source": [
    "df = pd.DataFrame(data=data,columns=['ID','item_cnt_month'])"
   ]
  },
  {
   "cell_type": "code",
   "execution_count": 54,
   "metadata": {},
   "outputs": [],
   "source": [
    "df = df.astype({'ID':'int32'})"
   ]
  },
  {
   "cell_type": "code",
   "execution_count": 56,
   "metadata": {},
   "outputs": [],
   "source": [
    "df.to_csv('simplified_data_v2/submission_please_god.csv',index=False)"
   ]
  },
  {
   "cell_type": "code",
   "execution_count": 57,
   "metadata": {},
   "outputs": [],
   "source": [
    "model_lstm.save('LSTM_Model_v4.h5')\n",
    "with open(\"LSTM_histoy_LSTM_model_v3.pkl\",'wb') as f:\n",
    "    pickle.dump(history.history,f)"
   ]
  },
  {
   "cell_type": "code",
   "execution_count": null,
   "metadata": {},
   "outputs": [],
   "source": []
  }
 ],
 "metadata": {
  "kernelspec": {
   "display_name": "CSCI567",
   "language": "python",
   "name": "csci567"
  },
  "language_info": {
   "codemirror_mode": {
    "name": "ipython",
    "version": 3
   },
   "file_extension": ".py",
   "mimetype": "text/x-python",
   "name": "python",
   "nbconvert_exporter": "python",
   "pygments_lexer": "ipython3",
   "version": "3.7.1"
  }
 },
 "nbformat": 4,
 "nbformat_minor": 4
}
