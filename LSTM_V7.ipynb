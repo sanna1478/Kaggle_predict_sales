{
 "cells": [
  {
   "cell_type": "code",
   "execution_count": 32,
   "metadata": {},
   "outputs": [],
   "source": [
    "import numpy as np\n",
    "import pandas as pd\n",
    "import matplotlib.pyplot as plt\n",
    "from tensorflow.keras.models import Sequential\n",
    "from tensorflow.keras.layers import Dense\n",
    "from tensorflow.keras.layers import LSTM\n",
    "from sklearn.model_selection import train_test_split\n",
    "from tensorflow.keras.models import load_model\n",
    "import pickle\n",
    "import gc\n",
    "from tqdm.notebook import tqdm\n",
    "from collections import deque\n"
   ]
  },
  {
   "cell_type": "code",
   "execution_count": 7,
   "metadata": {},
   "outputs": [
    {
     "data": {
      "application/vnd.jupyter.widget-view+json": {
       "model_id": "95996ebd41974f96a89a1fd0e1426efb",
       "version_major": 2,
       "version_minor": 0
      },
      "text/plain": [
       "HBox(children=(FloatProgress(value=0.0, max=4.0), HTML(value='')))"
      ]
     },
     "metadata": {},
     "output_type": "display_data"
    },
    {
     "name": "stdout",
     "output_type": "stream",
     "text": [
      "\n"
     ]
    },
    {
     "data": {
      "text/plain": [
       "0"
      ]
     },
     "execution_count": 7,
     "metadata": {},
     "output_type": "execute_result"
    }
   ],
   "source": [
    "# Load the data and stack\n",
    "test = list(range(11,60))\n",
    "shop_ids = list(range(2,10)) + list(range(11,20))\n",
    "X = []\n",
    "y = []\n",
    "file_path = \"simplified_data/\"\n",
    "for i in tqdm(range(4)):\n",
    "    with open(file_path+\"reshaped_train_data_part_\"+str(i)+\".pkl\",'rb') as f:\n",
    "        X += pickle.load(f)\n",
    "    with open(file_path+\"reshaped_train_label_data_part_\"+str(i)+\".pkl\",'rb') as f:\n",
    "        y += pickle.load(f)\n",
    "X_data = np.concatenate(X)\n",
    "del X; gc.collect();\n",
    "y_data = np.concatenate(y)\n",
    "del y; gc.collect()\n",
    "    "
   ]
  },
  {
   "cell_type": "code",
   "execution_count": 8,
   "metadata": {},
   "outputs": [
    {
     "data": {
      "text/plain": [
       "(13405056, 2, 31)"
      ]
     },
     "execution_count": 8,
     "metadata": {},
     "output_type": "execute_result"
    }
   ],
   "source": [
    "X_data.shape"
   ]
  },
  {
   "cell_type": "code",
   "execution_count": 9,
   "metadata": {},
   "outputs": [],
   "source": [
    "# Scale the the target variable\n",
    "y_data = y_data.reshape(-1)\n",
    "y_data = y_data.clip(0,40)\n",
    "max_log_y = np.log1p(40)\n",
    "y_data_scaled = np.log1p(y_data)/max_log_y\n",
    "del y_data; gc.collect();"
   ]
  },
  {
   "cell_type": "code",
   "execution_count": 11,
   "metadata": {},
   "outputs": [
    {
     "data": {
      "text/plain": [
       "(13405056,)"
      ]
     },
     "execution_count": 11,
     "metadata": {},
     "output_type": "execute_result"
    }
   ],
   "source": []
  },
  {
   "cell_type": "code",
   "execution_count": 12,
   "metadata": {},
   "outputs": [],
   "source": [
    "X_train, X_val, y_train, y_val = train_test_split(X_data, y_data_scaled,\n",
    "                                                 test_size=0.2)\n",
    "del X_data; gc.collect();"
   ]
  },
  {
   "cell_type": "code",
   "execution_count": null,
   "metadata": {},
   "outputs": [],
   "source": [
    "X_train.shape"
   ]
  },
  {
   "cell_type": "code",
   "execution_count": 15,
   "metadata": {},
   "outputs": [
    {
     "name": "stdout",
     "output_type": "stream",
     "text": [
      "Model: \"sequential_1\"\n",
      "_________________________________________________________________\n",
      "Layer (type)                 Output Shape              Param #   \n",
      "=================================================================\n",
      "lstm_3 (LSTM)                (None, 2, 256)            294912    \n",
      "_________________________________________________________________\n",
      "lstm_4 (LSTM)                (None, 64)                82176     \n",
      "_________________________________________________________________\n",
      "dense_1 (Dense)              (None, 1)                 65        \n",
      "=================================================================\n",
      "Total params: 377,153\n",
      "Trainable params: 377,153\n",
      "Non-trainable params: 0\n",
      "_________________________________________________________________\n"
     ]
    }
   ],
   "source": [
    "model_lstm = Sequential()\n",
    "model_lstm.add(LSTM(256, input_shape=(2,31), return_sequences=True))\n",
    "# model_lstm.add(LSTM(32, return_sequences=True))\n",
    "model_lstm.add(LSTM(64))\n",
    "model_lstm.add(Dense(units=1))\n",
    "model_lstm.compile(loss='mse', optimizer='adam', metrics=['accuracy']) # Increase Learning rate by steps of 0.1\n",
    "model_lstm.summary()"
   ]
  },
  {
   "cell_type": "code",
   "execution_count": 17,
   "metadata": {},
   "outputs": [
    {
     "name": "stdout",
     "output_type": "stream",
     "text": [
      "Train on 10724044 samples, validate on 2681012 samples\n",
      "Epoch 1/30\n",
      "10724044/10724044 [==============================] - 685s 64us/sample - loss: 0.0055 - accuracy: 0.8895 - val_loss: 0.0055 - val_accuracy: 0.8895\n",
      "Epoch 2/30\n",
      "10724044/10724044 [==============================] - 679s 63us/sample - loss: 0.0054 - accuracy: 0.8895 - val_loss: 0.0054 - val_accuracy: 0.8894\n",
      "Epoch 3/30\n",
      "10724044/10724044 [==============================] - 675s 63us/sample - loss: 0.0054 - accuracy: 0.8895 - val_loss: 0.0054 - val_accuracy: 0.8895\n",
      "Epoch 4/30\n",
      "10724044/10724044 [==============================] - 675s 63us/sample - loss: 0.0053 - accuracy: 0.8895 - val_loss: 0.0053 - val_accuracy: 0.8895\n",
      "Epoch 5/30\n",
      "10724044/10724044 [==============================] - 680s 63us/sample - loss: 0.0053 - accuracy: 0.8895 - val_loss: 0.0053 - val_accuracy: 0.8895\n",
      "Epoch 6/30\n",
      "10724044/10724044 [==============================] - 676s 63us/sample - loss: 0.0053 - accuracy: 0.8895 - val_loss: 0.0053 - val_accuracy: 0.8895\n",
      "Epoch 7/30\n",
      "10724044/10724044 [==============================] - 675s 63us/sample - loss: 0.0053 - accuracy: 0.8895 - val_loss: 0.0053 - val_accuracy: 0.8895\n",
      "Epoch 8/30\n",
      "10724044/10724044 [==============================] - 676s 63us/sample - loss: 0.0052 - accuracy: 0.8895 - val_loss: 0.0053 - val_accuracy: 0.8895\n",
      "Epoch 9/30\n",
      "10724044/10724044 [==============================] - 675s 63us/sample - loss: 0.0052 - accuracy: 0.8895 - val_loss: 0.0053 - val_accuracy: 0.8895\n",
      "Epoch 10/30\n",
      "10724044/10724044 [==============================] - 676s 63us/sample - loss: 0.0052 - accuracy: 0.8895 - val_loss: 0.0052 - val_accuracy: 0.8895\n",
      "Epoch 11/30\n",
      "10724044/10724044 [==============================] - 676s 63us/sample - loss: 0.0052 - accuracy: 0.8895 - val_loss: 0.0052 - val_accuracy: 0.8895\n",
      "Epoch 12/30\n",
      "10724044/10724044 [==============================] - 677s 63us/sample - loss: 0.0052 - accuracy: 0.8895 - val_loss: 0.0052 - val_accuracy: 0.8895\n",
      "Epoch 13/30\n",
      "10724044/10724044 [==============================] - 677s 63us/sample - loss: 0.0052 - accuracy: 0.8895 - val_loss: 0.0052 - val_accuracy: 0.8895\n",
      "Epoch 14/30\n",
      "10724044/10724044 [==============================] - 678s 63us/sample - loss: 0.0051 - accuracy: 0.8895 - val_loss: 0.0052 - val_accuracy: 0.8895\n",
      "Epoch 15/30\n",
      "10724044/10724044 [==============================] - 678s 63us/sample - loss: 0.0051 - accuracy: 0.8895 - val_loss: 0.0052 - val_accuracy: 0.8895\n",
      "Epoch 16/30\n",
      "10724044/10724044 [==============================] - 677s 63us/sample - loss: 0.0051 - accuracy: 0.8895 - val_loss: 0.0052 - val_accuracy: 0.8895\n",
      "Epoch 17/30\n",
      "10724044/10724044 [==============================] - 679s 63us/sample - loss: 0.0051 - accuracy: 0.8895 - val_loss: 0.0051 - val_accuracy: 0.8895\n",
      "Epoch 18/30\n",
      "10724044/10724044 [==============================] - 679s 63us/sample - loss: 0.0051 - accuracy: 0.8895 - val_loss: 0.0051 - val_accuracy: 0.8895\n",
      "Epoch 19/30\n",
      "10724044/10724044 [==============================] - 679s 63us/sample - loss: 0.0051 - accuracy: 0.8895 - val_loss: 0.0051 - val_accuracy: 0.8895\n",
      "Epoch 20/30\n",
      "10724044/10724044 [==============================] - 679s 63us/sample - loss: 0.0051 - accuracy: 0.8895 - val_loss: 0.0051 - val_accuracy: 0.8895\n",
      "Epoch 21/30\n",
      "10724044/10724044 [==============================] - 676s 63us/sample - loss: 0.0050 - accuracy: 0.8895 - val_loss: 0.0051 - val_accuracy: 0.8895\n",
      "Epoch 22/30\n",
      "10724044/10724044 [==============================] - 676s 63us/sample - loss: 0.0050 - accuracy: 0.8895 - val_loss: 0.0051 - val_accuracy: 0.8895\n",
      "Epoch 23/30\n",
      "10724044/10724044 [==============================] - 678s 63us/sample - loss: 0.0050 - accuracy: 0.8895 - val_loss: 0.0051 - val_accuracy: 0.8895\n",
      "Epoch 24/30\n",
      "10724044/10724044 [==============================] - 679s 63us/sample - loss: 0.0050 - accuracy: 0.8895 - val_loss: 0.0051 - val_accuracy: 0.8895\n",
      "Epoch 25/30\n",
      "10724044/10724044 [==============================] - 678s 63us/sample - loss: 0.0050 - accuracy: 0.8896 - val_loss: 0.0051 - val_accuracy: 0.8895\n",
      "Epoch 26/30\n",
      "10724044/10724044 [==============================] - 678s 63us/sample - loss: 0.0050 - accuracy: 0.8896 - val_loss: 0.0051 - val_accuracy: 0.8895\n",
      "Epoch 27/30\n",
      "10724044/10724044 [==============================] - 679s 63us/sample - loss: 0.0050 - accuracy: 0.8896 - val_loss: 0.0051 - val_accuracy: 0.8895\n",
      "Epoch 28/30\n",
      "10724044/10724044 [==============================] - 679s 63us/sample - loss: 0.0050 - accuracy: 0.8896 - val_loss: 0.0051 - val_accuracy: 0.8895\n",
      "Epoch 29/30\n",
      "10724044/10724044 [==============================] - 678s 63us/sample - loss: 0.0050 - accuracy: 0.8896 - val_loss: 0.0051 - val_accuracy: 0.8895\n",
      "Epoch 30/30\n",
      "10724044/10724044 [==============================] - 678s 63us/sample - loss: 0.0050 - accuracy: 0.8896 - val_loss: 0.0051 - val_accuracy: 0.8895\n"
     ]
    }
   ],
   "source": [
    "history = model_lstm.fit(X_train, y_train, \n",
    "                         validation_data=(X_val, y_val), \n",
    "                         epochs=30, \n",
    "                         batch_size=10000)"
   ]
  },
  {
   "cell_type": "code",
   "execution_count": 24,
   "metadata": {},
   "outputs": [],
   "source": [
    "result = model_lstm.predict(X_val)"
   ]
  },
  {
   "cell_type": "code",
   "execution_count": 26,
   "metadata": {},
   "outputs": [],
   "source": [
    "result = np.expm1(result*max_log_y)"
   ]
  },
  {
   "cell_type": "code",
   "execution_count": 28,
   "metadata": {},
   "outputs": [],
   "source": [
    "y_val_unscaled = np.expm1(y_val * max_log_y)"
   ]
  },
  {
   "cell_type": "code",
   "execution_count": 30,
   "metadata": {},
   "outputs": [
    {
     "name": "stdout",
     "output_type": "stream",
     "text": [
      "Val RMSE: 0.955\n"
     ]
    }
   ],
   "source": [
    "from sklearn.metrics import mean_squared_error\n",
    "from numpy import sqrt\n",
    "rmse = sqrt(mean_squared_error(y_val_unscaled,result))\n",
    "print('Val RMSE: %.3f' % rmse)"
   ]
  },
  {
   "cell_type": "code",
   "execution_count": 23,
   "metadata": {},
   "outputs": [
    {
     "data": {
      "text/plain": [
       "-0.29517037"
      ]
     },
     "execution_count": 23,
     "metadata": {},
     "output_type": "execute_result"
    }
   ],
   "source": [
    "result.min()"
   ]
  },
  {
   "cell_type": "code",
   "execution_count": 31,
   "metadata": {},
   "outputs": [],
   "source": [
    "model_lstm.save('LSTM_Model_v1.h5')"
   ]
  },
  {
   "cell_type": "code",
   "execution_count": 33,
   "metadata": {},
   "outputs": [],
   "source": [
    "model_test = load_model('LSTM_Model_v1.h5')"
   ]
  },
  {
   "cell_type": "code",
   "execution_count": 34,
   "metadata": {},
   "outputs": [],
   "source": [
    "result_v2 = model_test.predict(X_val)\n",
    "result_v2 = np.expm1(result_v2*max_log_y)"
   ]
  },
  {
   "cell_type": "code",
   "execution_count": 35,
   "metadata": {},
   "outputs": [
    {
     "name": "stdout",
     "output_type": "stream",
     "text": [
      "Val RMSE: 0.955\n"
     ]
    }
   ],
   "source": [
    "rmse = sqrt(mean_squared_error(y_val_unscaled,result_v2))\n",
    "print('Val RMSE: %.3f' % rmse)"
   ]
  },
  {
   "cell_type": "code",
   "execution_count": 36,
   "metadata": {},
   "outputs": [],
   "source": [
    "del X_train; del X_val; gc.collect();"
   ]
  },
  {
   "cell_type": "code",
   "execution_count": null,
   "metadata": {},
   "outputs": [],
   "source": []
  }
 ],
 "metadata": {
  "kernelspec": {
   "display_name": "CSCI567",
   "language": "python",
   "name": "csci567"
  },
  "language_info": {
   "codemirror_mode": {
    "name": "ipython",
    "version": 3
   },
   "file_extension": ".py",
   "mimetype": "text/x-python",
   "name": "python",
   "nbconvert_exporter": "python",
   "pygments_lexer": "ipython3",
   "version": "3.7.1"
  }
 },
 "nbformat": 4,
 "nbformat_minor": 4
}
