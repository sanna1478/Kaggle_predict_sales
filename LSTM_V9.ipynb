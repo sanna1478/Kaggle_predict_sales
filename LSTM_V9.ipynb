{
 "cells": [
  {
   "cell_type": "code",
   "execution_count": 7,
   "metadata": {},
   "outputs": [],
   "source": [
    "import numpy as np\n",
    "import pandas as pd\n",
    "import matplotlib.pyplot as plt\n",
    "from tensorflow.keras.models import Sequential\n",
    "from tensorflow.keras.layers import Dense\n",
    "from tensorflow.keras.layers import LSTM\n",
    "from tensorflow.keras.layers import Dropout\n",
    "from sklearn.model_selection import train_test_split\n",
    "from tensorflow.keras.models import load_model\n",
    "from sklearn.model_selection import train_test_split\n",
    "import pickle\n",
    "import gc\n",
    "from tqdm.notebook import tqdm\n",
    "from collections import deque"
   ]
  },
  {
   "cell_type": "code",
   "execution_count": 2,
   "metadata": {},
   "outputs": [],
   "source": [
    "with open(\"simplified_data_v2/train_features_v2.pkl\",'rb') as f:\n",
    "    X = pickle.load(f)\n",
    "with open(\"simplified_data_v2/train_labels_v2.pkl\",'rb') as f:\n",
    "    y = pickle.load(f)"
   ]
  },
  {
   "cell_type": "code",
   "execution_count": 3,
   "metadata": {},
   "outputs": [],
   "source": [
    "y_scaled = y.clip(0,40)\n",
    "y_scaled = np.log1p(y_scaled)/np.log1p(40)"
   ]
  },
  {
   "cell_type": "code",
   "execution_count": 4,
   "metadata": {},
   "outputs": [],
   "source": [
    "X_train, X_test, y_train, y_test = train_test_split(X, y_scaled,test_size=0.2)\n",
    "del X; gc.collect();"
   ]
  },
  {
   "cell_type": "code",
   "execution_count": 6,
   "metadata": {},
   "outputs": [
    {
     "data": {
      "text/plain": [
       "(483055, 2, 19)"
      ]
     },
     "execution_count": 6,
     "metadata": {},
     "output_type": "execute_result"
    }
   ],
   "source": [
    "X_test.shape"
   ]
  },
  {
   "cell_type": "code",
   "execution_count": 11,
   "metadata": {},
   "outputs": [
    {
     "name": "stdout",
     "output_type": "stream",
     "text": [
      "Model: \"sequential_2\"\n",
      "_________________________________________________________________\n",
      "Layer (type)                 Output Shape              Param #   \n",
      "=================================================================\n",
      "lstm_4 (LSTM)                (None, 2, 256)            282624    \n",
      "_________________________________________________________________\n",
      "dropout_3 (Dropout)          (None, 2, 256)            0         \n",
      "_________________________________________________________________\n",
      "lstm_5 (LSTM)                (None, 64)                82176     \n",
      "_________________________________________________________________\n",
      "dropout_4 (Dropout)          (None, 64)                0         \n",
      "_________________________________________________________________\n",
      "dense_2 (Dense)              (None, 1)                 65        \n",
      "=================================================================\n",
      "Total params: 364,865\n",
      "Trainable params: 364,865\n",
      "Non-trainable params: 0\n",
      "_________________________________________________________________\n"
     ]
    }
   ],
   "source": [
    "model_lstm = Sequential()\n",
    "model_lstm.add(LSTM(256, input_shape=(2,19), return_sequences=True))\n",
    "model_lstm.add(Dropout(0.2))\n",
    "model_lstm.add(LSTM(64))\n",
    "model_lstm.add(Dropout(0.2))\n",
    "model_lstm.add(Dense(units=1, activation='sigmoid'))\n",
    "model_lstm.compile(loss='mse', optimizer='adam', metrics=['accuracy']) # Increase Learning rate by steps of 0.1\n",
    "model_lstm.summary()"
   ]
  },
  {
   "cell_type": "code",
   "execution_count": 12,
   "metadata": {},
   "outputs": [
    {
     "name": "stdout",
     "output_type": "stream",
     "text": [
      "Train on 1932216 samples, validate on 483055 samples\n",
      "Epoch 1/50\n",
      "1932216/1932216 [==============================] - 190s 98us/sample - loss: 0.0133 - accuracy: 0.5900 - val_loss: 0.0129 - val_accuracy: 0.5898\n",
      "Epoch 2/50\n",
      "1932216/1932216 [==============================] - 194s 100us/sample - loss: 0.0129 - accuracy: 0.5900 - val_loss: 0.0127 - val_accuracy: 0.5898\n",
      "Epoch 3/50\n",
      "1932216/1932216 [==============================] - 201s 104us/sample - loss: 0.0127 - accuracy: 0.5900 - val_loss: 0.0127 - val_accuracy: 0.5899\n",
      "Epoch 4/50\n",
      "1932216/1932216 [==============================] - 192s 99us/sample - loss: 0.0126 - accuracy: 0.5900 - val_loss: 0.0126 - val_accuracy: 0.5899\n",
      "Epoch 5/50\n",
      "1932216/1932216 [==============================] - 187s 97us/sample - loss: 0.0126 - accuracy: 0.5900 - val_loss: 0.0125 - val_accuracy: 0.5898\n",
      "Epoch 6/50\n",
      "1932216/1932216 [==============================] - 191s 99us/sample - loss: 0.0125 - accuracy: 0.5900 - val_loss: 0.0125 - val_accuracy: 0.5899\n",
      "Epoch 7/50\n",
      "1932216/1932216 [==============================] - 191s 99us/sample - loss: 0.0124 - accuracy: 0.5900 - val_loss: 0.0124 - val_accuracy: 0.5898\n",
      "Epoch 8/50\n",
      "1932216/1932216 [==============================] - 191s 99us/sample - loss: 0.0124 - accuracy: 0.5900 - val_loss: 0.0124 - val_accuracy: 0.5899\n",
      "Epoch 9/50\n",
      "1932216/1932216 [==============================] - 190s 98us/sample - loss: 0.0123 - accuracy: 0.5900 - val_loss: 0.0124 - val_accuracy: 0.5899\n",
      "Epoch 10/50\n",
      "1932216/1932216 [==============================] - 188s 97us/sample - loss: 0.0123 - accuracy: 0.5900 - val_loss: 0.0123 - val_accuracy: 0.5898\n",
      "Epoch 11/50\n",
      "1932216/1932216 [==============================] - 189s 98us/sample - loss: 0.0122 - accuracy: 0.5901 - val_loss: 0.0123 - val_accuracy: 0.5898\n",
      "Epoch 12/50\n",
      "1932216/1932216 [==============================] - 188s 97us/sample - loss: 0.0122 - accuracy: 0.5901 - val_loss: 0.0123 - val_accuracy: 0.5898\n",
      "Epoch 13/50\n",
      "1932216/1932216 [==============================] - 189s 98us/sample - loss: 0.0121 - accuracy: 0.5901 - val_loss: 0.0122 - val_accuracy: 0.5898\n",
      "Epoch 14/50\n",
      "1932216/1932216 [==============================] - 191s 99us/sample - loss: 0.0121 - accuracy: 0.5901 - val_loss: 0.0122 - val_accuracy: 0.5898\n",
      "Epoch 15/50\n",
      "1932216/1932216 [==============================] - 192s 100us/sample - loss: 0.0120 - accuracy: 0.5901 - val_loss: 0.0122 - val_accuracy: 0.5898\n",
      "Epoch 16/50\n",
      "1932216/1932216 [==============================] - 189s 98us/sample - loss: 0.0120 - accuracy: 0.5901 - val_loss: 0.0122 - val_accuracy: 0.5898\n",
      "Epoch 17/50\n",
      "1932216/1932216 [==============================] - 189s 98us/sample - loss: 0.0119 - accuracy: 0.5901 - val_loss: 0.0122 - val_accuracy: 0.5899\n",
      "Epoch 18/50\n",
      "1932216/1932216 [==============================] - 189s 98us/sample - loss: 0.0119 - accuracy: 0.5901 - val_loss: 0.0122 - val_accuracy: 0.5898\n",
      "Epoch 19/50\n",
      "1932216/1932216 [==============================] - 194s 100us/sample - loss: 0.0118 - accuracy: 0.5901 - val_loss: 0.0122 - val_accuracy: 0.5898\n",
      "Epoch 20/50\n",
      "1932216/1932216 [==============================] - 189s 98us/sample - loss: 0.0118 - accuracy: 0.5901 - val_loss: 0.0122 - val_accuracy: 0.5898\n",
      "Epoch 21/50\n",
      "1932216/1932216 [==============================] - 188s 97us/sample - loss: 0.0117 - accuracy: 0.5901 - val_loss: 0.0122 - val_accuracy: 0.5898\n",
      "Epoch 22/50\n",
      "1932216/1932216 [==============================] - 189s 98us/sample - loss: 0.0117 - accuracy: 0.5901 - val_loss: 0.0122 - val_accuracy: 0.5899\n",
      "Epoch 23/50\n",
      "1932216/1932216 [==============================] - 190s 98us/sample - loss: 0.0117 - accuracy: 0.5901 - val_loss: 0.0122 - val_accuracy: 0.5898\n",
      "Epoch 24/50\n",
      "1932216/1932216 [==============================] - 191s 99us/sample - loss: 0.0116 - accuracy: 0.5901 - val_loss: 0.0122 - val_accuracy: 0.5898\n",
      "Epoch 25/50\n",
      "1932216/1932216 [==============================] - 190s 99us/sample - loss: 0.0116 - accuracy: 0.5901 - val_loss: 0.0122 - val_accuracy: 0.5898\n",
      "Epoch 26/50\n",
      "1932216/1932216 [==============================] - 190s 98us/sample - loss: 0.0115 - accuracy: 0.5901 - val_loss: 0.0122 - val_accuracy: 0.5898\n",
      "Epoch 27/50\n",
      "1932216/1932216 [==============================] - 191s 99us/sample - loss: 0.0115 - accuracy: 0.5901 - val_loss: 0.0122 - val_accuracy: 0.5898\n",
      "Epoch 28/50\n",
      "1932216/1932216 [==============================] - 191s 99us/sample - loss: 0.0115 - accuracy: 0.5901 - val_loss: 0.0122 - val_accuracy: 0.5898\n",
      "Epoch 29/50\n",
      "1932216/1932216 [==============================] - 188s 97us/sample - loss: 0.0114 - accuracy: 0.5901 - val_loss: 0.0122 - val_accuracy: 0.5899\n",
      "Epoch 30/50\n",
      "1932216/1932216 [==============================] - 194s 100us/sample - loss: 0.0114 - accuracy: 0.5901 - val_loss: 0.0122 - val_accuracy: 0.5898\n",
      "Epoch 31/50\n",
      "1932216/1932216 [==============================] - 200s 104us/sample - loss: 0.0114 - accuracy: 0.5901 - val_loss: 0.0122 - val_accuracy: 0.5898\n",
      "Epoch 32/50\n",
      "1932216/1932216 [==============================] - 195s 101us/sample - loss: 0.0113 - accuracy: 0.5901 - val_loss: 0.0122 - val_accuracy: 0.5898\n",
      "Epoch 33/50\n",
      "1932216/1932216 [==============================] - 195s 101us/sample - loss: 0.0113 - accuracy: 0.5901 - val_loss: 0.0122 - val_accuracy: 0.5898\n",
      "Epoch 34/50\n",
      "1932216/1932216 [==============================] - 193s 100us/sample - loss: 0.0113 - accuracy: 0.5901 - val_loss: 0.0122 - val_accuracy: 0.5899\n",
      "Epoch 35/50\n",
      "1932216/1932216 [==============================] - 191s 99us/sample - loss: 0.0112 - accuracy: 0.5901 - val_loss: 0.0122 - val_accuracy: 0.5898\n",
      "Epoch 36/50\n",
      "1932216/1932216 [==============================] - 188s 98us/sample - loss: 0.0112 - accuracy: 0.5901 - val_loss: 0.0123 - val_accuracy: 0.5898\n",
      "Epoch 37/50\n",
      "1932216/1932216 [==============================] - 190s 98us/sample - loss: 0.0112 - accuracy: 0.5901 - val_loss: 0.0123 - val_accuracy: 0.5898\n",
      "Epoch 38/50\n",
      "1932216/1932216 [==============================] - 192s 99us/sample - loss: 0.0112 - accuracy: 0.5901 - val_loss: 0.0123 - val_accuracy: 0.5898\n",
      "Epoch 39/50\n",
      "1932216/1932216 [==============================] - 189s 98us/sample - loss: 0.0111 - accuracy: 0.5901 - val_loss: 0.0123 - val_accuracy: 0.5898\n",
      "Epoch 40/50\n",
      "1932216/1932216 [==============================] - 191s 99us/sample - loss: 0.0111 - accuracy: 0.5901 - val_loss: 0.0123 - val_accuracy: 0.5898\n",
      "Epoch 41/50\n",
      "1932216/1932216 [==============================] - 194s 100us/sample - loss: 0.0111 - accuracy: 0.5901 - val_loss: 0.0123 - val_accuracy: 0.5898\n",
      "Epoch 42/50\n",
      "1932216/1932216 [==============================] - 190s 99us/sample - loss: 0.0110 - accuracy: 0.5901 - val_loss: 0.0123 - val_accuracy: 0.5898\n",
      "Epoch 43/50\n",
      "1932216/1932216 [==============================] - 194s 101us/sample - loss: 0.0110 - accuracy: 0.5901 - val_loss: 0.0123 - val_accuracy: 0.5898\n",
      "Epoch 44/50\n",
      "1932216/1932216 [==============================] - 194s 100us/sample - loss: 0.0110 - accuracy: 0.5901 - val_loss: 0.0123 - val_accuracy: 0.5898\n",
      "Epoch 45/50\n",
      "1932216/1932216 [==============================] - 190s 99us/sample - loss: 0.0110 - accuracy: 0.5901 - val_loss: 0.0124 - val_accuracy: 0.5898\n",
      "Epoch 46/50\n",
      "1932216/1932216 [==============================] - 195s 101us/sample - loss: 0.0109 - accuracy: 0.5901 - val_loss: 0.0124 - val_accuracy: 0.5898\n",
      "Epoch 47/50\n",
      "1932216/1932216 [==============================] - 194s 101us/sample - loss: 0.0109 - accuracy: 0.5901 - val_loss: 0.0124 - val_accuracy: 0.5898\n",
      "Epoch 48/50\n",
      "1932216/1932216 [==============================] - 195s 101us/sample - loss: 0.0109 - accuracy: 0.5901 - val_loss: 0.0123 - val_accuracy: 0.5898\n",
      "Epoch 49/50\n",
      "1932216/1932216 [==============================] - 195s 101us/sample - loss: 0.0109 - accuracy: 0.5901 - val_loss: 0.0124 - val_accuracy: 0.5898\n",
      "Epoch 50/50\n",
      "1932216/1932216 [==============================] - 199s 103us/sample - loss: 0.0109 - accuracy: 0.5901 - val_loss: 0.0124 - val_accuracy: 0.5898\n"
     ]
    }
   ],
   "source": [
    "history = model_lstm.fit(X_train, y_train, validation_data=(X_test, y_test), epochs=50, batch_size=128)"
   ]
  },
  {
   "cell_type": "code",
   "execution_count": 13,
   "metadata": {},
   "outputs": [],
   "source": [
    "y_pre = model_lstm.predict(X_test)"
   ]
  },
  {
   "cell_type": "code",
   "execution_count": 14,
   "metadata": {},
   "outputs": [],
   "source": [
    "y_pre_unscaled = np.expm1(y_pre * np.log1p(40))\n",
    "y_unscaled = np.expm1(y_test * np.log1p(40))"
   ]
  },
  {
   "cell_type": "code",
   "execution_count": 16,
   "metadata": {},
   "outputs": [
    {
     "name": "stdout",
     "output_type": "stream",
     "text": [
      "Val RMSE: 1.246\n"
     ]
    },
    {
     "data": {
      "image/png": "[encoded data removed]",
      "text/plain": [
       "<Figure size 432x288 with 1 Axes>"
      ]
     },
     "metadata": {
      "needs_background": "light"
     },
     "output_type": "display_data"
    }
   ],
   "source": [
    "from sklearn.metrics import mean_squared_error\n",
    "from numpy import sqrt\n",
    "rmse = sqrt(mean_squared_error(y_pre_unscaled,y_unscaled))\n",
    "print('Val RMSE: %.3f' % rmse)\n",
    "\n",
    "# Plot training & validation loss values\n",
    "plt.plot(history.history['loss'])\n",
    "plt.plot(history.history['val_loss'])\n",
    "plt.title('Model loss (epoch=50, batchsize=128)')\n",
    "plt.ylabel('Loss')\n",
    "plt.xlabel('Epoch')\n",
    "plt.legend(['Train', 'Test'], loc='upper left')\n",
    "plt.show()"
   ]
  },
  {
   "cell_type": "code",
   "execution_count": 17,
   "metadata": {},
   "outputs": [],
   "source": [
    "model_lstm.save(\"LSTM_Model_v3.h5\")"
   ]
  },
  {
   "cell_type": "code",
   "execution_count": 18,
   "metadata": {},
   "outputs": [],
   "source": [
    "with open(\"LSTM_history_LSTM_model_v3.pkl\",'wb') as f:\n",
    "    pickle.dump(history.history,f)"
   ]
  },
  {
   "cell_type": "code",
   "execution_count": null,
   "metadata": {},
   "outputs": [],
   "source": []
  }
 ],
 "metadata": {
  "kernelspec": {
   "display_name": "CSCI567",
   "language": "python",
   "name": "csci567"
  },
  "language_info": {
   "codemirror_mode": {
    "name": "ipython",
    "version": 3
   },
   "file_extension": ".py",
   "mimetype": "text/x-python",
   "name": "python",
   "nbconvert_exporter": "python",
   "pygments_lexer": "ipython3",
   "version": "3.7.1"
  }
 },
 "nbformat": 4,
 "nbformat_minor": 4
}
